{
 "cells": [
  {
   "cell_type": "markdown",
   "metadata": {
    "application/vnd.databricks.v1+cell": {
     "cellMetadata": {
      "byteLimit": 2048000,
      "rowLimit": 10000
     },
     "inputWidgets": {},
     "nuid": "ddd8a34e-c04c-4660-84bc-c1057ed9ec16",
     "showTitle": false,
     "tableResultSettingsMap": {},
     "title": ""
    }
   },
   "source": [
    "# Raster acquisition, processing and analysis with Databricks\n",
    "\n",
    "The final notebook in this series will demonstrate how to:\n",
    "- Use Mosaic's map algebra functions [↗︎](https://databrickslabs.github.io/mosaic/api/raster-functions.html) to compute the pixel-level Normalized Difference Vegetation Index (NDVI) and aggregate this to a single result per AoI."
   ]
  },
  {
   "cell_type": "markdown",
   "metadata": {
    "application/vnd.databricks.v1+cell": {
     "cellMetadata": {
      "byteLimit": 2048000,
      "rowLimit": 10000
     },
     "inputWidgets": {},
     "nuid": "469a50a3-a5d9-4094-a211-0fa60c8dbc09",
     "showTitle": false,
     "tableResultSettingsMap": {},
     "title": ""
    }
   },
   "source": [
    "## Install the libraries and prepare the environment"
   ]
  },
  {
   "cell_type": "markdown",
   "metadata": {
    "application/vnd.databricks.v1+cell": {
     "cellMetadata": {
      "byteLimit": 2048000,
      "rowLimit": 10000
     },
     "inputWidgets": {},
     "nuid": "fa0e3cc4-5baf-48ad-be02-7d3b5c82ebd3",
     "showTitle": false,
     "tableResultSettingsMap": {},
     "title": ""
    }
   },
   "source": [
    "For this demo we will require a few spatial libraries that can be easily installed via pip install. We will be using gdal, rasterio, pystac and databricks-mosaic for data download and data manipulation. We will use planetary computer as the source of the raster data for the analysis."
   ]
  },
  {
   "cell_type": "code",
   "execution_count": 0,
   "metadata": {
    "application/vnd.databricks.v1+cell": {
     "cellMetadata": {
      "byteLimit": 2048000,
      "rowLimit": 10000
     },
     "inputWidgets": {},
     "nuid": "3a123b1c-fce9-468c-b100-79235d95f492",
     "showTitle": false,
     "tableResultSettingsMap": {},
     "title": ""
    },
    "jupyter": {
     "outputs_hidden": true
    }
   },
   "outputs": [],
   "source": [
    "import os\n",
    "\n",
    "notebook_path = dbutils.notebook.entry_point.getDbutils().notebook().getContext().notebookPath().get()\n",
    "project_path = os.path.dirname(notebook_path)\n",
    "os.environ[\"PROJECTCWD\"] = project_path\n",
    "\n",
    "%pip install /Workspace$PROJECTCWD/databricks_mosaic-0.4.3-py3-none-any.whl\n",
    "%pip install --quiet rasterio==1.3.5 gdal==3.4.1 pystac pystac_client planetary_computer tenacity rich osdatahub"
   ]
  },
  {
   "cell_type": "code",
   "execution_count": 0,
   "metadata": {
    "application/vnd.databricks.v1+cell": {
     "cellMetadata": {
      "byteLimit": 2048000,
      "rowLimit": 10000
     },
     "inputWidgets": {},
     "nuid": "c915a766-8989-49c2-bd1d-eca453d6f2a3",
     "showTitle": false,
     "tableResultSettingsMap": {},
     "title": ""
    }
   },
   "outputs": [],
   "source": [
    "%reload_ext autoreload\n",
    "%autoreload 2"
   ]
  },
  {
   "cell_type": "code",
   "execution_count": 0,
   "metadata": {
    "application/vnd.databricks.v1+cell": {
     "cellMetadata": {
      "byteLimit": 2048000,
      "rowLimit": 10000
     },
     "inputWidgets": {},
     "nuid": "a33de043-55b7-4fe0-9356-56df486d963e",
     "showTitle": false,
     "tableResultSettingsMap": {},
     "title": ""
    }
   },
   "outputs": [],
   "source": [
    "import library\n",
    "import mosaic as mos\n",
    "import os\n",
    "\n",
    "from datetime import datetime\n",
    "from pyspark.sql import functions as F\n",
    "from pyspark.sql import Window\n",
    "\n",
    "data_product = \"OpenGreenspace\"\n",
    "\n",
    "current_user = spark.sql(\"select current_user() as user\").first()[\"user\"]\n",
    "data_root = f\"/tmp/{current_user}/{data_product}/data\"\n",
    "output_path = data_root.replace(\"/data\", \"/outputs\")\n",
    "\n",
    "dbutils.fs.mkdirs(data_root)\n",
    "dbutils.fs.mkdirs(output_path)\n",
    "\n",
    "os.environ[\"DATADIR\"] = f\"/dbfs{data_root}\"\n",
    "os.environ[\"OUTDIR\"] = f\"/dbfs{output_path}\"\n",
    "\n",
    "CATALOG = \"marcell\"\n",
    "SCHEMA = \"geospatial\"\n",
    "\n",
    "spark.sql(f\"CREATE CATALOG IF NOT EXISTS {CATALOG}\")\n",
    "spark.sql(f\"CREATE SCHEMA IF NOT EXISTS {CATALOG}.{SCHEMA}\")"
   ]
  },
  {
   "cell_type": "code",
   "execution_count": 0,
   "metadata": {
    "application/vnd.databricks.v1+cell": {
     "cellMetadata": {
      "byteLimit": 2048000,
      "rowLimit": 10000
     },
     "inputWidgets": {},
     "nuid": "d59192d9-2d44-4bb6-ad6b-dc3e4d92634b",
     "showTitle": false,
     "tableResultSettingsMap": {},
     "title": ""
    }
   },
   "outputs": [],
   "source": [
    "spark.conf.set(\"spark.sql.adaptive.coalescePartitions.enabled\", \"false\")\n",
    "mos.enable_mosaic(spark, dbutils)\n",
    "mos.enable_gdal(spark, with_checkpoint_path=f\"/dbfs{output_path}/checkpoint/{datetime.now().isoformat()}\")"
   ]
  },
  {
   "cell_type": "markdown",
   "metadata": {
    "application/vnd.databricks.v1+cell": {
     "cellMetadata": {
      "byteLimit": 2048000,
      "rowLimit": 10000
     },
     "inputWidgets": {},
     "nuid": "3be12d93-e3d3-42f6-aa62-548803565362",
     "showTitle": false,
     "tableResultSettingsMap": {},
     "title": ""
    }
   },
   "source": [
    "## Retrieve latest state from image processing workflow"
   ]
  },
  {
   "cell_type": "code",
   "execution_count": 0,
   "metadata": {
    "application/vnd.databricks.v1+cell": {
     "cellMetadata": {
      "byteLimit": 2048000,
      "rowLimit": 10000
     },
     "inputWidgets": {},
     "nuid": "cd04d413-64db-4619-9c86-e452a8e4bf71",
     "showTitle": false,
     "tableResultSettingsMap": {},
     "title": ""
    }
   },
   "outputs": [],
   "source": [
    "clipped_image_table_ref = f\"{CATALOG}.{SCHEMA}.clipped_rasters\"\n",
    "clipped_images = spark.table(clipped_image_table_ref)\n",
    "clipped_images.display()"
   ]
  },
  {
   "cell_type": "markdown",
   "metadata": {
    "application/vnd.databricks.v1+cell": {
     "cellMetadata": {
      "byteLimit": 2048000,
      "rowLimit": 10000
     },
     "inputWidgets": {},
     "nuid": "aab9bf46-1523-46ad-a060-ef38c1a2041f",
     "showTitle": false,
     "tableResultSettingsMap": {},
     "title": ""
    }
   },
   "source": [
    "## Local map algebra functions\n",
    "\n",
    "For calculating measures like Normalized Difference Vegetation Index (NDVI), we might need to apply some local map algebra function (i.e. transform and combine values from individual pixels in the same location across multiple raster bands).\n",
    "- Mosaic has a built-in method for computing NDVI, `rst_ndvi()`[](https://databrickslabs.github.io/mosaic/api/raster-functions.html#rst_ndvi), but also allows for users to perform any local map algebra they like using the `rst_mapalgebra()` function.\n",
    "- The return data type of these functions will match that of the input raster bands. This is a problem if our inputs are expressed as integers and our map algebra function requires division, since the output really should be a floating point number. To change the input bands to another data type, we can use the `rst_updatetype()` expression."
   ]
  },
  {
   "cell_type": "code",
   "execution_count": 0,
   "metadata": {
    "application/vnd.databricks.v1+cell": {
     "cellMetadata": {
      "byteLimit": 2048000,
      "rowLimit": 10000
     },
     "inputWidgets": {},
     "nuid": "37e4327b-010f-4ceb-9552-4ecfd15a26ee",
     "showTitle": false,
     "tableResultSettingsMap": {},
     "title": ""
    }
   },
   "outputs": [],
   "source": [
    "ndvi_table_ref = f\"{CATALOG}.{SCHEMA}.ndvi\"\n",
    "\n",
    "(\n",
    "  clipped_images\n",
    "  .repartition(sc.defaultParallelism * 10)\n",
    "  .withColumn(\"tile\", mos.rst_updatetype(\"tile\", F.lit(\"Float32\")))\n",
    "  .withColumn(\"ndvi\", mos.rst_ndvi(\"tile\", F.lit(4), F.lit(8)))\n",
    "  .write\n",
    "  .mode(\"overwrite\")\n",
    "  .saveAsTable(ndvi_table_ref)\n",
    "  ) \n",
    "\n",
    "ndvi = spark.table(ndvi_table_ref)\n",
    "ndvi.display()"
   ]
  },
  {
   "cell_type": "code",
   "execution_count": 0,
   "metadata": {
    "application/vnd.databricks.v1+cell": {
     "cellMetadata": {
      "byteLimit": 2048000,
      "rowLimit": 10000
     },
     "inputWidgets": {},
     "nuid": "df377faf-78ab-4c5b-b8c9-6a7cc2e160f4",
     "showTitle": false,
     "tableResultSettingsMap": {},
     "title": ""
    }
   },
   "outputs": [],
   "source": [
    "ndvi.count()"
   ]
  },
  {
   "cell_type": "markdown",
   "metadata": {
    "application/vnd.databricks.v1+cell": {
     "cellMetadata": {
      "byteLimit": 2048000,
      "rowLimit": 10000
     },
     "inputWidgets": {},
     "nuid": "558acfbd-bf4d-4153-8374-7b7393d5cb58",
     "showTitle": false,
     "tableResultSettingsMap": {},
     "title": ""
    }
   },
   "source": [
    "## Examine results\n",
    "\n",
    "We can examine the contents of checkpointed files using the `rasterio` and `matplotlib` python packages like this:"
   ]
  },
  {
   "cell_type": "code",
   "execution_count": 0,
   "metadata": {
    "application/vnd.databricks.v1+cell": {
     "cellMetadata": {
      "byteLimit": 2048000,
      "rowLimit": 10000
     },
     "inputWidgets": {},
     "nuid": "781162f6-23c3-42a7-9a12-173530c7ea44",
     "showTitle": false,
     "tableResultSettingsMap": {},
     "title": ""
    }
   },
   "outputs": [],
   "source": [
    "import matplotlib.pyplot as plt\n",
    "import rasterio\n",
    "\n",
    "def plot_file(file_path, bands):\n",
    "  fig, ax = plt.subplots(1, figsize=(16, 16))\n",
    "\n",
    "  with rasterio.open(file_path) as src:\n",
    "    arr = src.read(bands, masked=True)\n",
    "    rasterio.plot.show(arr, ax=ax, transform=src.transform, adjust=True)\n",
    "    plt.show()\n",
    "  \n",
    "def plot_file_with_hist(file_path, band):\n",
    "  fig, (axrgb, axhist) = plt.subplots(1, 2, figsize=(14,7))\n",
    "\n",
    "  with rasterio.open(file_path) as src:\n",
    "    arr = src.read(band, masked=True)\n",
    "    rasterio.plot.show(arr, ax=axrgb, transform=src.transform, adjust=True)\n",
    "    rasterio.plot.show_hist(arr, bins=50, histtype='stepfilled', lw=0.0, stacked=False, alpha=0.3, ax=axhist)\n",
    "  plt.show()"
   ]
  },
  {
   "cell_type": "code",
   "execution_count": 0,
   "metadata": {
    "application/vnd.databricks.v1+cell": {
     "cellMetadata": {
      "byteLimit": 2048000,
      "rowLimit": 10000
     },
     "inputWidgets": {},
     "nuid": "c8508d07-77fc-4467-9cc8-ef7908c3f63f",
     "showTitle": false,
     "tableResultSettingsMap": {},
     "title": ""
    }
   },
   "outputs": [],
   "source": [
    "def get_example(df):\n",
    "  example_key = \"1E275104-7485-3552-E063-AAEFA00A7A80\"\n",
    "  return df.where(f\"id = '{example_key}'\")\n",
    "\n",
    "def get_path(df, colName):\n",
    "  return df.transform(get_example).first()[colName][\"raster\"]\n",
    "\n",
    "print(get_path(df=clipped_images, colName=\"tile\"))\n",
    "plot_file(get_path(df=clipped_images, colName=\"tile\"), bands=[4, 3, 2])"
   ]
  },
  {
   "cell_type": "code",
   "execution_count": 0,
   "metadata": {
    "application/vnd.databricks.v1+cell": {
     "cellMetadata": {
      "byteLimit": 2048000,
      "rowLimit": 10000
     },
     "inputWidgets": {},
     "nuid": "e75d1a5a-1b87-465f-8045-b7a62e6ccce1",
     "showTitle": false,
     "tableResultSettingsMap": {},
     "title": ""
    }
   },
   "outputs": [],
   "source": [
    "plot_file(get_path(df=ndvi, colName=\"ndvi\"), bands=1)"
   ]
  },
  {
   "cell_type": "markdown",
   "metadata": {
    "application/vnd.databricks.v1+cell": {
     "cellMetadata": {
      "byteLimit": 2048000,
      "rowLimit": 10000
     },
     "inputWidgets": {},
     "nuid": "13c04841-4f13-4d71-8cb5-f7c0700c7d93",
     "showTitle": false,
     "tableResultSettingsMap": {},
     "title": ""
    }
   },
   "source": [
    "## Apply zonal map algebra functions\n",
    "\n",
    "In contrast to the 'local' map algebra functions, their 'zonal' equivalents aggregate the pixel values of the entire raster tile.\n",
    "\n",
    "The following functions are implemented:\n",
    "- `rst_min()`\n",
    "- `rst_max()`\n",
    "- `rst_avg()` (computes the mean pixel value)\n",
    "- `rst_median()`\n",
    "- `rst_pixelcount()`\n",
    "\n",
    "If the `tile` object passed to any of these functions is a multiband raster, an array of values will be returned."
   ]
  },
  {
   "cell_type": "code",
   "execution_count": 0,
   "metadata": {
    "application/vnd.databricks.v1+cell": {
     "cellMetadata": {
      "byteLimit": 2048000,
      "rowLimit": 10000
     },
     "inputWidgets": {},
     "nuid": "b22ce8a6-a12f-4cf0-8f15-6ad255905f36",
     "showTitle": false,
     "tableResultSettingsMap": {},
     "title": ""
    }
   },
   "outputs": [],
   "source": [
    "(\n",
    "  clipped_images\n",
    "  .withColumn(\"max_per_band\", F.expr(\"rst_max(tile)\"))\n",
    "  ).display()"
   ]
  },
  {
   "cell_type": "markdown",
   "metadata": {
    "application/vnd.databricks.v1+cell": {
     "cellMetadata": {
      "byteLimit": 2048000,
      "rowLimit": 10000
     },
     "inputWidgets": {},
     "nuid": "a2b7fa4b-bd59-49c9-a976-043834ed27b8",
     "showTitle": false,
     "tableResultSettingsMap": {},
     "title": ""
    }
   },
   "source": [
    "The final part of this workflow is to take our computed NDVI tiles and turn them into a single value. In this case, we'll compute the mean value to try and express the relative healthiness of the vegetation of each green space.\n",
    "\n",
    "We can then sort these values to identify the healthiest (or least healthy) golf courses in our great nation."
   ]
  },
  {
   "cell_type": "code",
   "execution_count": 0,
   "metadata": {
    "application/vnd.databricks.v1+cell": {
     "cellMetadata": {
      "byteLimit": 2048000,
      "rowLimit": 10000
     },
     "inputWidgets": {},
     "nuid": "b868d164-4128-4aa5-b179-ce5c09a716fb",
     "showTitle": false,
     "tableResultSettingsMap": {},
     "title": ""
    }
   },
   "outputs": [],
   "source": [
    "mean_ndvi = (\n",
    "  ndvi\n",
    "  .withColumn(\"ndvi_mean_test\", F.expr(\"try_sql(rst_avg(ndvi))\"))\n",
    "  .where(\"ndvi_mean_test.status='OK'\")\n",
    "  .select(\n",
    "    \"id\", \"function\", \"distinctive_name_1\", \"geometry_4326\",\n",
    "    \"ndvi.metadata.path\",\n",
    "    F.explode(F.col(\"ndvi_mean_test.result\")).alias(\"ndvi_mean\")\n",
    "    )\n",
    ").cache()"
   ]
  },
  {
   "cell_type": "markdown",
   "metadata": {
    "application/vnd.databricks.v1+cell": {
     "cellMetadata": {
      "byteLimit": 2048000,
      "rowLimit": 10000
     },
     "inputWidgets": {},
     "nuid": "06e96c3f-8ea0-4933-aab1-fa782f5386ed",
     "showTitle": false,
     "tableResultSettingsMap": {},
     "title": ""
    }
   },
   "source": [
    "Let's look at the areas with the highest and lowest NDVI and see what we can conclude..."
   ]
  },
  {
   "cell_type": "code",
   "execution_count": 0,
   "metadata": {
    "application/vnd.databricks.v1+cell": {
     "cellMetadata": {
      "byteLimit": 2048000,
      "rowLimit": 10000
     },
     "inputWidgets": {},
     "nuid": "b185d390-fdda-4c8f-9b0c-5fef4e3ef4c9",
     "showTitle": false,
     "tableResultSettingsMap": {},
     "title": ""
    }
   },
   "outputs": [],
   "source": [
    "mean_ndvi.write.mode(\"overwrite\").option(\"overwriteSchema\", \"true\").saveAsTable(f\"{CATALOG}.{SCHEMA}.mean_ndvi\")"
   ]
  },
  {
   "cell_type": "code",
   "execution_count": 0,
   "metadata": {
    "application/vnd.databricks.v1+cell": {
     "cellMetadata": {
      "byteLimit": 2048000,
      "rowLimit": 10000
     },
     "inputWidgets": {},
     "nuid": "0373df94-7083-4e86-83a4-ebacb72d5164",
     "showTitle": false,
     "tableResultSettingsMap": {},
     "title": ""
    }
   },
   "outputs": [],
   "source": [
    "mean_ndvi.display()"
   ]
  },
  {
   "cell_type": "code",
   "execution_count": 0,
   "metadata": {
    "application/vnd.databricks.v1+cell": {
     "cellMetadata": {
      "byteLimit": 2048000,
      "rowLimit": 10000
     },
     "inputWidgets": {},
     "nuid": "c669d56e-1bbf-43bc-b8f0-eacab3eed8ea",
     "showTitle": false,
     "tableResultSettingsMap": {},
     "title": ""
    }
   },
   "outputs": [],
   "source": [
    "high_ndvi_id = (\n",
    "  mean_ndvi\n",
    "  .orderBy(F.desc(\"ndvi_mean\"))\n",
    "  .first()[\"id\"]\n",
    "  )\n",
    "\n",
    "high_mean = mean_ndvi.where(f\"id='{high_ndvi_id}'\").first()\n",
    "high_ndvi_row = ndvi.where(f\"id='{high_ndvi_id}'\").first()\n",
    "high_ndvi_original_row = clipped_images.where(f\"id='{high_ndvi_id}'\").first()\n",
    "\n",
    "print(f\"ID: {high_mean['id']}\")\n",
    "print(f\"Location: {high_mean['distinctive_name_1']}\")\n",
    "print(f\"Mean NDVI: {high_mean['ndvi_mean']}\")\n",
    "\n",
    "plot_file(high_ndvi_original_row[\"tile\"][\"raster\"], [4, 3, 2])\n",
    "plot_file_with_hist(high_ndvi_original_row[\"tile\"][\"raster\"], 4)\n",
    "plot_file_with_hist(high_ndvi_original_row[\"tile\"][\"raster\"], 8)\n",
    "plot_file_with_hist(high_ndvi_row[\"tile\"][\"raster\"], 1)\n",
    "\n",
    "high_ndvi_row[\"geometry_4326\"]"
   ]
  },
  {
   "cell_type": "code",
   "execution_count": 0,
   "metadata": {
    "application/vnd.databricks.v1+cell": {
     "cellMetadata": {
      "byteLimit": 2048000,
      "rowLimit": 10000
     },
     "inputWidgets": {},
     "nuid": "04ece8c8-507a-45a0-b0ac-1c1d13e6a11c",
     "showTitle": false,
     "tableResultSettingsMap": {},
     "title": ""
    }
   },
   "outputs": [],
   "source": [
    "low_ndvi_id = (\n",
    "  mean_ndvi\n",
    "  .where(~(F.col(\"id\")==\"10687FF5-AFE1-64A4-E063-AAEFA00A3B27\"))\n",
    "  .orderBy(\"ndvi_mean\")\n",
    "  .first()[\"id\"]\n",
    "  )\n",
    "\n",
    "low_mean = mean_ndvi.where(f\"id='{low_ndvi_id}'\").first()\n",
    "low_ndvi_row = ndvi.where(f\"id='{low_ndvi_id}'\").first()\n",
    "low_ndvi_original_row = clipped_images.where(f\"id='{low_ndvi_id}'\").first()\n",
    "\n",
    "print(f\"ID: {low_mean['id']}\")\n",
    "print(f\"Location: {low_mean['distinctive_name_1']}\")\n",
    "print(f\"Mean NDVI: {low_mean['ndvi_mean']}\")\n",
    "\n",
    "plot_file(low_ndvi_original_row[\"tile\"][\"raster\"], [4, 3, 2])\n",
    "plot_file_with_hist(low_ndvi_original_row[\"tile\"][\"raster\"], 4)\n",
    "plot_file_with_hist(low_ndvi_original_row[\"tile\"][\"raster\"], 8)\n",
    "plot_file_with_hist(low_ndvi_row[\"tile\"][\"raster\"], 1)\n",
    "\n",
    "low_ndvi_row[\"geometry_4326\"]"
   ]
  }
 ],
 "metadata": {
  "application/vnd.databricks.v1+notebook": {
   "dashboards": [],
   "environmentMetadata": {
    "base_environment": "",
    "client": "1"
   },
   "language": "python",
   "notebookMetadata": {
    "mostRecentlyExecutedCommandWithImplicitDF": {
     "commandId": 1576479189972311,
     "dataframes": [
      "_sqldf"
     ]
    },
    "pythonIndentUnit": 2
   },
   "notebookName": "02 Analyse results",
   "widgets": {}
  },
  "language_info": {
   "name": "python"
  }
 },
 "nbformat": 4,
 "nbformat_minor": 0
}
