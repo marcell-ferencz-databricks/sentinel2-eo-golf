{
 "cells": [
  {
   "cell_type": "markdown",
   "metadata": {
    "application/vnd.databricks.v1+cell": {
     "cellMetadata": {
      "byteLimit": 2048000,
      "rowLimit": 10000
     },
     "inputWidgets": {},
     "nuid": "ddd8a34e-c04c-4660-84bc-c1057ed9ec16",
     "showTitle": false,
     "title": ""
    }
   },
   "source": [
    "# Raster acquisition, processing and analysis with Databricks\n",
    "\n",
    "Today we'll answer the biggest open question in the field of Earth observation and GIS systems:\n",
    "__which British golf course has the greenest, healthiest vegetation?__\n",
    "\n",
    "<img src='./assets/John-Daly-4.jpg'/>\n",
    "\n",
    "In this first notebook, we will demonstrate how to:\n",
    "- Install and configure a Databricks cluster ready for raster processing, including installing the Datbaricks Labs Mosaic[↗︎](https://github.com/databrickslabs/mosaic) project and its GDAL[↗︎](https://gdal.org/) extensions;\n",
    "- Read a publicly available vector dataset describing green space locations in Great Britain and prepare this for later use by reprojecting coordinates and converting the geometries into GeoJSON format;\n",
    "- Query the Microsoft Planetary Computer's Sentinel 2 catalog[↗︎](https://planetarycomputer.microsoft.com/dataset/sentinel-2-l2a) to obtain links to the relevant imagery for our areas of interest; and\n",
    "- Download the single-band GeoTIFF images to a location in the Databricks file system."
   ]
  },
  {
   "cell_type": "markdown",
   "metadata": {
    "application/vnd.databricks.v1+cell": {
     "cellMetadata": {
      "byteLimit": 2048000,
      "rowLimit": 10000
     },
     "inputWidgets": {},
     "nuid": "469a50a3-a5d9-4094-a211-0fa60c8dbc09",
     "showTitle": false,
     "title": ""
    }
   },
   "source": [
    "## Install the libraries and prepare the environment"
   ]
  },
  {
   "cell_type": "markdown",
   "metadata": {
    "application/vnd.databricks.v1+cell": {
     "cellMetadata": {
      "byteLimit": 2048000,
      "rowLimit": 10000
     },
     "inputWidgets": {},
     "nuid": "fa0e3cc4-5baf-48ad-be02-7d3b5c82ebd3",
     "showTitle": false,
     "title": ""
    }
   },
   "source": [
    "For this demo we will require a few spatial libraries that can be easily installed via pip install. We will be using gdal, rasterio, pystac and databricks-mosaic for data download and data manipulation. We will use planetary computer as the source of the raster data for the analysis."
   ]
  },
  {
   "cell_type": "code",
   "execution_count": 0,
   "metadata": {
    "application/vnd.databricks.v1+cell": {
     "cellMetadata": {
      "byteLimit": 2048000,
      "rowLimit": 10000
     },
     "inputWidgets": {},
     "nuid": "1e91dcc4-c4d1-4e6c-843b-1b644ac834ff",
     "showTitle": false,
     "title": ""
    },
    "jupyter": {
     "outputs_hidden": true
    }
   },
   "outputs": [
    {
     "output_type": "stream",
     "name": "stdout",
     "output_type": "stream",
     "text": [
      "\u001B[43mNote: you may need to restart the kernel using dbutils.library.restartPython() to use updated packages.\u001B[0m\nProcessing /Workspace/Users/stuart.lynn@databricks.com/customers/Arup/sentinel2-demo/databricks_mosaic-0.4.3-py3-none-any.whl\nCollecting geopandas<0.14.4,>=0.14\n  Using cached geopandas-0.14.3-py3-none-any.whl (1.1 MB)\nRequirement already satisfied: ipython<8.11,>=7.4.2 in /databricks/python3/lib/python3.10/site-packages (from databricks-mosaic==0.4.3) (8.10.0)\nCollecting h3<4.0,>=3.7\n  Using cached h3-3.7.7-cp310-cp310-manylinux_2_17_x86_64.manylinux2014_x86_64.whl (1.2 MB)\nCollecting keplergl==0.3.2\n  Using cached keplergl-0.3.2-py2.py3-none-any.whl\nCollecting traittypes>=0.2.1\n  Using cached traittypes-0.2.1-py2.py3-none-any.whl (8.6 kB)\nRequirement already satisfied: ipywidgets<8,>=7.0.0 in /databricks/python3/lib/python3.10/site-packages (from keplergl==0.3.2->databricks-mosaic==0.4.3) (7.7.2)\nRequirement already satisfied: pandas>=0.23.0 in /databricks/python3/lib/python3.10/site-packages (from keplergl==0.3.2->databricks-mosaic==0.4.3) (1.4.4)\nCollecting Shapely>=1.6.4.post2\n  Using cached shapely-2.0.6-cp310-cp310-manylinux_2_17_x86_64.manylinux2014_x86_64.whl (2.5 MB)\nRequirement already satisfied: packaging in /databricks/python3/lib/python3.10/site-packages (from geopandas<0.14.4,>=0.14->databricks-mosaic==0.4.3) (21.3)\nCollecting pyproj>=3.3.0\n  Using cached pyproj-3.6.1-cp310-cp310-manylinux_2_17_x86_64.manylinux2014_x86_64.whl (8.3 MB)\nCollecting fiona>=1.8.21\n  Using cached fiona-1.10.0-cp310-cp310-manylinux_2_17_x86_64.manylinux2014_x86_64.whl (17.3 MB)\nRequirement already satisfied: pygments>=2.4.0 in /databricks/python3/lib/python3.10/site-packages (from ipython<8.11,>=7.4.2->databricks-mosaic==0.4.3) (2.11.2)\nRequirement already satisfied: decorator in /databricks/python3/lib/python3.10/site-packages (from ipython<8.11,>=7.4.2->databricks-mosaic==0.4.3) (5.1.1)\nRequirement already satisfied: traitlets>=5 in /databricks/python3/lib/python3.10/site-packages (from ipython<8.11,>=7.4.2->databricks-mosaic==0.4.3) (5.1.1)\nRequirement already satisfied: pickleshare in /databricks/python3/lib/python3.10/site-packages (from ipython<8.11,>=7.4.2->databricks-mosaic==0.4.3) (0.7.5)\nRequirement already satisfied: backcall in /databricks/python3/lib/python3.10/site-packages (from ipython<8.11,>=7.4.2->databricks-mosaic==0.4.3) (0.2.0)\nRequirement already satisfied: jedi>=0.16 in /databricks/python3/lib/python3.10/site-packages (from ipython<8.11,>=7.4.2->databricks-mosaic==0.4.3) (0.18.1)\nRequirement already satisfied: matplotlib-inline in /databricks/python3/lib/python3.10/site-packages (from ipython<8.11,>=7.4.2->databricks-mosaic==0.4.3) (0.1.6)\nRequirement already satisfied: pexpect>4.3 in /databricks/python3/lib/python3.10/site-packages (from ipython<8.11,>=7.4.2->databricks-mosaic==0.4.3) (4.8.0)\nRequirement already satisfied: prompt-toolkit<3.1.0,>=3.0.30 in /databricks/python3/lib/python3.10/site-packages (from ipython<8.11,>=7.4.2->databricks-mosaic==0.4.3) (3.0.36)\nRequirement already satisfied: stack-data in /databricks/python3/lib/python3.10/site-packages (from ipython<8.11,>=7.4.2->databricks-mosaic==0.4.3) (0.6.2)\nRequirement already satisfied: attrs>=19.2.0 in /databricks/python3/lib/python3.10/site-packages (from fiona>=1.8.21->geopandas<0.14.4,>=0.14->databricks-mosaic==0.4.3) (21.4.0)\nRequirement already satisfied: certifi in /databricks/python3/lib/python3.10/site-packages (from fiona>=1.8.21->geopandas<0.14.4,>=0.14->databricks-mosaic==0.4.3) (2022.9.14)\nRequirement already satisfied: click~=8.0 in /databricks/python3/lib/python3.10/site-packages (from fiona>=1.8.21->geopandas<0.14.4,>=0.14->databricks-mosaic==0.4.3) (8.0.4)\nCollecting cligj>=0.5\n  Using cached cligj-0.7.2-py3-none-any.whl (7.1 kB)\nCollecting click-plugins>=1.0\n  Using cached click_plugins-1.1.1-py2.py3-none-any.whl (7.5 kB)\nRequirement already satisfied: widgetsnbextension~=3.6.0 in /databricks/python3/lib/python3.10/site-packages (from ipywidgets<8,>=7.0.0->keplergl==0.3.2->databricks-mosaic==0.4.3) (3.6.1)\nRequirement already satisfied: ipython-genutils~=0.2.0 in /databricks/python3/lib/python3.10/site-packages (from ipywidgets<8,>=7.0.0->keplergl==0.3.2->databricks-mosaic==0.4.3) (0.2.0)\nRequirement already satisfied: jupyterlab-widgets<3,>=1.0.0 in /databricks/python3/lib/python3.10/site-packages (from ipywidgets<8,>=7.0.0->keplergl==0.3.2->databricks-mosaic==0.4.3) (1.0.0)\nRequirement already satisfied: ipykernel>=4.5.1 in /databricks/python3/lib/python3.10/site-packages (from ipywidgets<8,>=7.0.0->keplergl==0.3.2->databricks-mosaic==0.4.3) (6.17.1)\nRequirement already satisfied: parso<0.9.0,>=0.8.0 in /databricks/python3/lib/python3.10/site-packages (from jedi>=0.16->ipython<8.11,>=7.4.2->databricks-mosaic==0.4.3) (0.8.3)\nRequirement already satisfied: numpy>=1.21.0 in /databricks/python3/lib/python3.10/site-packages (from pandas>=0.23.0->keplergl==0.3.2->databricks-mosaic==0.4.3) (1.21.5)\nRequirement already satisfied: python-dateutil>=2.8.1 in /databricks/python3/lib/python3.10/site-packages (from pandas>=0.23.0->keplergl==0.3.2->databricks-mosaic==0.4.3) (2.8.2)\nRequirement already satisfied: pytz>=2020.1 in /databricks/python3/lib/python3.10/site-packages (from pandas>=0.23.0->keplergl==0.3.2->databricks-mosaic==0.4.3) (2022.1)\nRequirement already satisfied: ptyprocess>=0.5 in /databricks/python3/lib/python3.10/site-packages (from pexpect>4.3->ipython<8.11,>=7.4.2->databricks-mosaic==0.4.3) (0.7.0)\nRequirement already satisfied: wcwidth in /databricks/python3/lib/python3.10/site-packages (from prompt-toolkit<3.1.0,>=3.0.30->ipython<8.11,>=7.4.2->databricks-mosaic==0.4.3) (0.2.5)\nRequirement already satisfied: pyparsing!=3.0.5,>=2.0.2 in /databricks/python3/lib/python3.10/site-packages (from packaging->geopandas<0.14.4,>=0.14->databricks-mosaic==0.4.3) (3.0.9)\nRequirement already satisfied: executing>=1.2.0 in /databricks/python3/lib/python3.10/site-packages (from stack-data->ipython<8.11,>=7.4.2->databricks-mosaic==0.4.3) (1.2.0)\nRequirement already satisfied: pure-eval in /databricks/python3/lib/python3.10/site-packages (from stack-data->ipython<8.11,>=7.4.2->databricks-mosaic==0.4.3) (0.2.2)\nRequirement already satisfied: asttokens>=2.1.0 in /databricks/python3/lib/python3.10/site-packages (from stack-data->ipython<8.11,>=7.4.2->databricks-mosaic==0.4.3) (2.2.1)\nRequirement already satisfied: six in /usr/lib/python3/dist-packages (from asttokens>=2.1.0->stack-data->ipython<8.11,>=7.4.2->databricks-mosaic==0.4.3) (1.16.0)\nRequirement already satisfied: nest-asyncio in /databricks/python3/lib/python3.10/site-packages (from ipykernel>=4.5.1->ipywidgets<8,>=7.0.0->keplergl==0.3.2->databricks-mosaic==0.4.3) (1.5.5)\nRequirement already satisfied: jupyter-client>=6.1.12 in /databricks/python3/lib/python3.10/site-packages (from ipykernel>=4.5.1->ipywidgets<8,>=7.0.0->keplergl==0.3.2->databricks-mosaic==0.4.3) (7.3.4)\nRequirement already satisfied: psutil in /databricks/python3/lib/python3.10/site-packages (from ipykernel>=4.5.1->ipywidgets<8,>=7.0.0->keplergl==0.3.2->databricks-mosaic==0.4.3) (5.9.0)\nRequirement already satisfied: pyzmq>=17 in /databricks/python3/lib/python3.10/site-packages (from ipykernel>=4.5.1->ipywidgets<8,>=7.0.0->keplergl==0.3.2->databricks-mosaic==0.4.3) (23.2.0)\nRequirement already satisfied: tornado>=6.1 in /databricks/python3/lib/python3.10/site-packages (from ipykernel>=4.5.1->ipywidgets<8,>=7.0.0->keplergl==0.3.2->databricks-mosaic==0.4.3) (6.1)\nRequirement already satisfied: debugpy>=1.0 in /databricks/python3/lib/python3.10/site-packages (from ipykernel>=4.5.1->ipywidgets<8,>=7.0.0->keplergl==0.3.2->databricks-mosaic==0.4.3) (1.6.0)\nRequirement already satisfied: notebook>=4.4.1 in /databricks/python3/lib/python3.10/site-packages (from widgetsnbextension~=3.6.0->ipywidgets<8,>=7.0.0->keplergl==0.3.2->databricks-mosaic==0.4.3) (6.4.12)\nRequirement already satisfied: entrypoints in /databricks/python3/lib/python3.10/site-packages (from jupyter-client>=6.1.12->ipykernel>=4.5.1->ipywidgets<8,>=7.0.0->keplergl==0.3.2->databricks-mosaic==0.4.3) (0.4)\nRequirement already satisfied: jupyter-core>=4.9.2 in /databricks/python3/lib/python3.10/site-packages (from jupyter-client>=6.1.12->ipykernel>=4.5.1->ipywidgets<8,>=7.0.0->keplergl==0.3.2->databricks-mosaic==0.4.3) (4.11.2)\nRequirement already satisfied: Send2Trash>=1.8.0 in /databricks/python3/lib/python3.10/site-packages (from notebook>=4.4.1->widgetsnbextension~=3.6.0->ipywidgets<8,>=7.0.0->keplergl==0.3.2->databricks-mosaic==0.4.3) (1.8.0)\nRequirement already satisfied: prometheus-client in /databricks/python3/lib/python3.10/site-packages (from notebook>=4.4.1->widgetsnbextension~=3.6.0->ipywidgets<8,>=7.0.0->keplergl==0.3.2->databricks-mosaic==0.4.3) (0.14.1)\nRequirement already satisfied: terminado>=0.8.3 in /databricks/python3/lib/python3.10/site-packages (from notebook>=4.4.1->widgetsnbextension~=3.6.0->ipywidgets<8,>=7.0.0->keplergl==0.3.2->databricks-mosaic==0.4.3) (0.13.1)\nRequirement already satisfied: argon2-cffi in /databricks/python3/lib/python3.10/site-packages (from notebook>=4.4.1->widgetsnbextension~=3.6.0->ipywidgets<8,>=7.0.0->keplergl==0.3.2->databricks-mosaic==0.4.3) (21.3.0)\nRequirement already satisfied: jinja2 in /databricks/python3/lib/python3.10/site-packages (from notebook>=4.4.1->widgetsnbextension~=3.6.0->ipywidgets<8,>=7.0.0->keplergl==0.3.2->databricks-mosaic==0.4.3) (2.11.3)\nRequirement already satisfied: nbformat in /databricks/python3/lib/python3.10/site-packages (from notebook>=4.4.1->widgetsnbextension~=3.6.0->ipywidgets<8,>=7.0.0->keplergl==0.3.2->databricks-mosaic==0.4.3) (5.5.0)\nRequirement already satisfied: nbconvert>=5 in /databricks/python3/lib/python3.10/site-packages (from notebook>=4.4.1->widgetsnbextension~=3.6.0->ipywidgets<8,>=7.0.0->keplergl==0.3.2->databricks-mosaic==0.4.3) (6.4.4)\nRequirement already satisfied: nbclient<0.6.0,>=0.5.0 in /databricks/python3/lib/python3.10/site-packages (from nbconvert>=5->notebook>=4.4.1->widgetsnbextension~=3.6.0->ipywidgets<8,>=7.0.0->keplergl==0.3.2->databricks-mosaic==0.4.3) (0.5.13)\nRequirement already satisfied: testpath in /databricks/python3/lib/python3.10/site-packages (from nbconvert>=5->notebook>=4.4.1->widgetsnbextension~=3.6.0->ipywidgets<8,>=7.0.0->keplergl==0.3.2->databricks-mosaic==0.4.3) (0.6.0)\nRequirement already satisfied: pandocfilters>=1.4.1 in /databricks/python3/lib/python3.10/site-packages (from nbconvert>=5->notebook>=4.4.1->widgetsnbextension~=3.6.0->ipywidgets<8,>=7.0.0->keplergl==0.3.2->databricks-mosaic==0.4.3) (1.5.0)\nRequirement already satisfied: jupyterlab-pygments in /databricks/python3/lib/python3.10/site-packages (from nbconvert>=5->notebook>=4.4.1->widgetsnbextension~=3.6.0->ipywidgets<8,>=7.0.0->keplergl==0.3.2->databricks-mosaic==0.4.3) (0.1.2)\nRequirement already satisfied: beautifulsoup4 in /databricks/python3/lib/python3.10/site-packages (from nbconvert>=5->notebook>=4.4.1->widgetsnbextension~=3.6.0->ipywidgets<8,>=7.0.0->keplergl==0.3.2->databricks-mosaic==0.4.3) (4.11.1)\nRequirement already satisfied: defusedxml in /databricks/python3/lib/python3.10/site-packages (from nbconvert>=5->notebook>=4.4.1->widgetsnbextension~=3.6.0->ipywidgets<8,>=7.0.0->keplergl==0.3.2->databricks-mosaic==0.4.3) (0.7.1)\nRequirement already satisfied: bleach in /databricks/python3/lib/python3.10/site-packages (from nbconvert>=5->notebook>=4.4.1->widgetsnbextension~=3.6.0->ipywidgets<8,>=7.0.0->keplergl==0.3.2->databricks-mosaic==0.4.3) (4.1.0)\nRequirement already satisfied: mistune<2,>=0.8.1 in /databricks/python3/lib/python3.10/site-packages (from nbconvert>=5->notebook>=4.4.1->widgetsnbextension~=3.6.0->ipywidgets<8,>=7.0.0->keplergl==0.3.2->databricks-mosaic==0.4.3) (0.8.4)\nRequirement already satisfied: MarkupSafe>=0.23 in /databricks/python3/lib/python3.10/site-packages (from jinja2->notebook>=4.4.1->widgetsnbextension~=3.6.0->ipywidgets<8,>=7.0.0->keplergl==0.3.2->databricks-mosaic==0.4.3) (2.0.1)\nRequirement already satisfied: fastjsonschema in /databricks/python3/lib/python3.10/site-packages (from nbformat->notebook>=4.4.1->widgetsnbextension~=3.6.0->ipywidgets<8,>=7.0.0->keplergl==0.3.2->databricks-mosaic==0.4.3) (2.18.0)\nRequirement already satisfied: jsonschema>=2.6 in /databricks/python3/lib/python3.10/site-packages (from nbformat->notebook>=4.4.1->widgetsnbextension~=3.6.0->ipywidgets<8,>=7.0.0->keplergl==0.3.2->databricks-mosaic==0.4.3) (4.16.0)\nRequirement already satisfied: argon2-cffi-bindings in /databricks/python3/lib/python3.10/site-packages (from argon2-cffi->notebook>=4.4.1->widgetsnbextension~=3.6.0->ipywidgets<8,>=7.0.0->keplergl==0.3.2->databricks-mosaic==0.4.3) (21.2.0)\nRequirement already satisfied: pyrsistent!=0.17.0,!=0.17.1,!=0.17.2,>=0.14.0 in /databricks/python3/lib/python3.10/site-packages (from jsonschema>=2.6->nbformat->notebook>=4.4.1->widgetsnbextension~=3.6.0->ipywidgets<8,>=7.0.0->keplergl==0.3.2->databricks-mosaic==0.4.3) (0.18.0)\nRequirement already satisfied: cffi>=1.0.1 in /databricks/python3/lib/python3.10/site-packages (from argon2-cffi-bindings->argon2-cffi->notebook>=4.4.1->widgetsnbextension~=3.6.0->ipywidgets<8,>=7.0.0->keplergl==0.3.2->databricks-mosaic==0.4.3) (1.15.1)\nRequirement already satisfied: soupsieve>1.2 in /databricks/python3/lib/python3.10/site-packages (from beautifulsoup4->nbconvert>=5->notebook>=4.4.1->widgetsnbextension~=3.6.0->ipywidgets<8,>=7.0.0->keplergl==0.3.2->databricks-mosaic==0.4.3) (2.3.1)\nRequirement already satisfied: webencodings in /databricks/python3/lib/python3.10/site-packages (from bleach->nbconvert>=5->notebook>=4.4.1->widgetsnbextension~=3.6.0->ipywidgets<8,>=7.0.0->keplergl==0.3.2->databricks-mosaic==0.4.3) (0.5.1)\nRequirement already satisfied: pycparser in /databricks/python3/lib/python3.10/site-packages (from cffi>=1.0.1->argon2-cffi-bindings->argon2-cffi->notebook>=4.4.1->widgetsnbextension~=3.6.0->ipywidgets<8,>=7.0.0->keplergl==0.3.2->databricks-mosaic==0.4.3) (2.21)\nInstalling collected packages: h3, traittypes, Shapely, pyproj, cligj, click-plugins, fiona, geopandas, keplergl, databricks-mosaic\nSuccessfully installed Shapely-2.0.6 click-plugins-1.1.1 cligj-0.7.2 databricks-mosaic-0.4.3 fiona-1.10.0 geopandas-0.14.3 h3-3.7.7 keplergl-0.3.2 pyproj-3.6.1 traittypes-0.2.1\n\u001B[43mNote: you may need to restart the kernel using dbutils.library.restartPython() to use updated packages.\u001B[0m\n\u001B[43mNote: you may need to restart the kernel using dbutils.library.restartPython() to use updated packages.\u001B[0m\nERROR: pip's dependency resolver does not currently take into account all the packages that are installed. This behaviour is the source of the following dependency conflicts.\ndatabricks-sdk 0.1.6 requires requests<2.29.0,>=2.28.1, but you have requests 2.31.0 which is incompatible.\n\u001B[43mNote: you may need to restart the kernel using dbutils.library.restartPython() to use updated packages.\u001B[0m\n"
     ]
    }
   ],
   "source": [
    "import os\n",
    "\n",
    "notebook_path = dbutils.notebook.entry_point.getDbutils().notebook().getContext().notebookPath().get()\n",
    "project_path = os.path.dirname(notebook_path)\n",
    "os.environ[\"PROJECTCWD\"] = project_path\n",
    "\n",
    "%pip install /Workspace$PROJECTCWD/databricks_mosaic-0.4.3-py3-none-any.whl\n",
    "%pip install --quiet rasterio==1.3.5 gdal==3.4.1 pystac pystac_client planetary_computer tenacity rich osdatahub"
   ]
  },
  {
   "cell_type": "code",
   "execution_count": 0,
   "metadata": {
    "application/vnd.databricks.v1+cell": {
     "cellMetadata": {
      "byteLimit": 2048000,
      "rowLimit": 10000
     },
     "inputWidgets": {},
     "nuid": "c915a766-8989-49c2-bd1d-eca453d6f2a3",
     "showTitle": false,
     "title": ""
    }
   },
   "outputs": [],
   "source": [
    "%reload_ext autoreload\n",
    "%autoreload 2"
   ]
  },
  {
   "cell_type": "code",
   "execution_count": 0,
   "metadata": {
    "application/vnd.databricks.v1+cell": {
     "cellMetadata": {
      "byteLimit": 2048000,
      "rowLimit": 10000
     },
     "inputWidgets": {},
     "nuid": "a33de043-55b7-4fe0-9356-56df486d963e",
     "showTitle": false,
     "title": ""
    }
   },
   "outputs": [
    {
     "output_type": "execute_result",
     "data": {
      "text/plain": [
       "DataFrame[]"
      ]
     },
     "execution_count": 3,
     "metadata": {},
     "output_type": "execute_result"
    }
   ],
   "source": [
    "import library\n",
    "import pystac_client\n",
    "import planetary_computer\n",
    "import mosaic as mos\n",
    "\n",
    "from datetime import datetime\n",
    "from osdatahub import OpenDataDownload\n",
    "from pyspark.sql import functions as F\n",
    "from pyspark.sql import Window\n",
    "\n",
    "data_product = \"OpenGreenspace\"\n",
    "\n",
    "current_user = spark.sql(\"select current_user() as user\").first()[\"user\"]\n",
    "data_root = f\"/tmp/{current_user}/{data_product}/data\"\n",
    "output_path = data_root.replace(\"/data\", \"/outputs\")\n",
    "\n",
    "dbutils.fs.mkdirs(data_root)\n",
    "dbutils.fs.mkdirs(output_path)\n",
    "\n",
    "os.environ[\"DATADIR\"] = f\"/dbfs{data_root}\"\n",
    "os.environ[\"OUTDIR\"] = f\"/dbfs{output_path}\"\n",
    "\n",
    "CATALOG = \"stuart\"\n",
    "SCHEMA = \"arup\"\n",
    "\n",
    "spark.sql(f\"CREATE CATALOG IF NOT EXISTS {CATALOG}\")\n",
    "spark.sql(f\"CREATE SCHEMA IF NOT EXISTS {CATALOG}.{SCHEMA}\")"
   ]
  },
  {
   "cell_type": "markdown",
   "metadata": {
    "application/vnd.databricks.v1+cell": {
     "cellMetadata": {
      "byteLimit": 2048000,
      "rowLimit": 10000
     },
     "inputWidgets": {},
     "nuid": "4f1f5c01-7a97-44f3-8910-107518bccc78",
     "showTitle": false,
     "title": ""
    }
   },
   "source": [
    "## 1a. Acquire areas of interest (AoI) dataset\n",
    "For this example, we shall use a publicly available set of shape data: the [Ordnance Survey OpenGreenspace](https://www.ordnancesurvey.co.uk/products/os-open-greenspace) product. This dataset describes the locations of green spaces of various types across the British Isles.\n",
    "\n",
    "The dataset is available in multiple formats but we'll take the GeoPackage since that's usually a simple, reliable format to work with."
   ]
  },
  {
   "cell_type": "code",
   "execution_count": 0,
   "metadata": {
    "application/vnd.databricks.v1+cell": {
     "cellMetadata": {
      "byteLimit": 2048000,
      "rowLimit": 10000
     },
     "inputWidgets": {},
     "nuid": "947d8d8e-aa86-4ad5-9593-26672098065e",
     "showTitle": false,
     "title": ""
    }
   },
   "outputs": [
    {
     "output_type": "stream",
     "name": "stderr",
     "output_type": "stream",
     "text": [
      "\ropgrsp_gpkg_gb.zip:   0%|          | 0.00/52.2M [00:00<?, ?B/s]\ropgrsp_gpkg_gb.zip:   2%|▏         | 1.05M/52.2M [00:00<00:26, 1.95MB/s]\ropgrsp_gpkg_gb.zip:   4%|▍         | 2.10M/52.2M [00:00<00:13, 3.73MB/s]\ropgrsp_gpkg_gb.zip:   8%|▊         | 4.19M/52.2M [00:00<00:06, 7.02MB/s]\ropgrsp_gpkg_gb.zip:  12%|█▏        | 6.29M/52.2M [00:00<00:05, 9.15MB/s]\ropgrsp_gpkg_gb.zip:  18%|█▊        | 9.44M/52.2M [00:01<00:03, 12.8MB/s]\ropgrsp_gpkg_gb.zip:  26%|██▌       | 13.6M/52.2M [00:01<00:02, 17.4MB/s]\ropgrsp_gpkg_gb.zip:  34%|███▍      | 17.8M/52.2M [00:01<00:01, 20.6MB/s]\ropgrsp_gpkg_gb.zip:  42%|████▏     | 22.0M/52.2M [00:01<00:01, 22.7MB/s]\ropgrsp_gpkg_gb.zip:  50%|█████     | 26.2M/52.2M [00:01<00:01, 24.3MB/s]\ropgrsp_gpkg_gb.zip:  58%|█████▊    | 30.4M/52.2M [00:01<00:00, 25.3MB/s]\ropgrsp_gpkg_gb.zip:  66%|██████▋   | 34.6M/52.2M [00:01<00:00, 26.1MB/s]\ropgrsp_gpkg_gb.zip:  74%|███████▍  | 38.8M/52.2M [00:02<00:00, 26.7MB/s]\ropgrsp_gpkg_gb.zip:  82%|████████▏ | 43.0M/52.2M [00:02<00:00, 27.0MB/s]\ropgrsp_gpkg_gb.zip:  90%|█████████ | 47.2M/52.2M [00:02<00:00, 27.4MB/s]\ropgrsp_gpkg_gb.zip:  98%|█████████▊| 51.4M/52.2M [00:02<00:00, 27.8MB/s]\r                                                                        \r\ropgrsp_gpkg_gb.zip: 52.4MB [00:02, 27.8MB/s]\ropgrsp_gpkg_gb.zip: 52.4MB [00:02, 19.1MB/s]"
     ]
    },
    {
     "output_type": "stream",
     "name": "stdout",
     "output_type": "stream",
     "text": [
      "Finished downloading opgrsp_gpkg_gb.zip to /dbfs/tmp/stuart.lynn@databricks.com/OpenGreenspace/data/opgrsp_gpkg_gb.zip\n"
     ]
    },
    {
     "output_type": "stream",
     "name": "stderr",
     "output_type": "stream",
     "text": [
      "\n"
     ]
    },
    {
     "output_type": "execute_result",
     "data": {
      "text/plain": [
       "['/dbfs/tmp/stuart.lynn@databricks.com/OpenGreenspace/data/opgrsp_gpkg_gb.zip']"
      ]
     },
     "execution_count": 4,
     "metadata": {},
     "output_type": "execute_result"
    }
   ],
   "source": [
    "downloader = OpenDataDownload(data_product)\n",
    "os.environ[\"PRODUCT\"] = product_filename = \"opgrsp_gpkg_gb.zip\"\n",
    "downloader.download(output_dir=f\"/dbfs{data_root}\", file_name=product_filename, overwrite=True)"
   ]
  },
  {
   "cell_type": "code",
   "execution_count": 0,
   "metadata": {
    "application/vnd.databricks.v1+cell": {
     "cellMetadata": {
      "byteLimit": 2048000,
      "rowLimit": 10000
     },
     "inputWidgets": {},
     "nuid": "3341dd1d-0fcc-4c8e-9ac8-b10313e64db5",
     "showTitle": false,
     "title": ""
    }
   },
   "outputs": [
    {
     "output_type": "stream",
     "name": "stdout",
     "output_type": "stream",
     "text": [
      "Archive:  /dbfs/tmp/stuart.lynn@databricks.com/OpenGreenspace/data/opgrsp_gpkg_gb.zip\n"
     ]
    }
   ],
   "source": [
    "%sh\n",
    "mkdir -p $DATADIR/geopackage\n",
    "unzip -n $DATADIR/opgrsp_gpkg_gb.zip -d $DATADIR/geopackage/"
   ]
  },
  {
   "cell_type": "code",
   "execution_count": 0,
   "metadata": {
    "application/vnd.databricks.v1+cell": {
     "cellMetadata": {
      "byteLimit": 2048000,
      "rowLimit": 10000
     },
     "inputWidgets": {},
     "nuid": "afbd05bc-7b0b-42e9-805f-393e8c1b6c71",
     "showTitle": false,
     "title": ""
    }
   },
   "outputs": [
    {
     "output_type": "stream",
     "name": "stdout",
     "output_type": "stream",
     "text": [
      "total 122M\ndrwxrwxrwx 2 nobody nogroup 4.0K May 28 17:55 .\ndrwxrwxrwx 2 nobody nogroup 4.0K May 28 17:55 ..\n-rwxrwxrwx 1 nobody nogroup 122M May 28 17:55 opgrsp_gb.gpkg\n"
     ]
    }
   ],
   "source": [
    "%sh ls -lah $DATADIR/geopackage/Data/"
   ]
  },
  {
   "cell_type": "markdown",
   "metadata": {
    "application/vnd.databricks.v1+cell": {
     "cellMetadata": {
      "byteLimit": 2048000,
      "rowLimit": 10000
     },
     "inputWidgets": {},
     "nuid": "8e8688ca-eacb-4fc0-9371-39c93e020308",
     "showTitle": false,
     "title": ""
    }
   },
   "source": [
    "## 1b. Read AoI data into Spark, reproject and store in Delta Lake"
   ]
  },
  {
   "cell_type": "markdown",
   "metadata": {
    "application/vnd.databricks.v1+cell": {
     "cellMetadata": {
      "byteLimit": 2048000,
      "rowLimit": 10000
     },
     "inputWidgets": {},
     "nuid": "e29c1e34-1fe1-4677-86ee-25155591e1d0",
     "showTitle": false,
     "title": ""
    }
   },
   "source": [
    "We will use Mosaic to read in this vector dataset, reproject it into a WGS84 coordinate reference system and write the feature geometries and their associated properties into a table in Unity Catalog.\n",
    "\n",
    "- Enabling Mosaic is a straightforward call to `mosaic.enable_mosaic()`.\n",
    "- If we want to use Mosaic's GDAL extensions (multiple vector and raster format readers, raster transformation functions etc.) then we also need to call `mosaic.enable_gdal()`.\n",
    "- GDAL needs to be installed and available on the cluster and Mosaic can also help us with this task (see instructions [here](https://databrickslabs.github.io/mosaic/usage/install-gdal.html))\n",
    "- The raster functions in Mosaic have two modes of operation. We'll opt for the more stable 'checkpointing enabled' mode, which persists intermediate raster results to a location in DBFS during execution of Spark jobs."
   ]
  },
  {
   "cell_type": "code",
   "execution_count": 0,
   "metadata": {
    "application/vnd.databricks.v1+cell": {
     "cellMetadata": {
      "byteLimit": 2048000,
      "rowLimit": 10000
     },
     "inputWidgets": {},
     "nuid": "d59192d9-2d44-4bb6-ad6b-dc3e4d92634b",
     "showTitle": false,
     "title": ""
    }
   },
   "outputs": [
    {
     "output_type": "stream",
     "name": "stdout",
     "output_type": "stream",
     "text": [
      "GDAL enabled.\n\ncheckpoint path '/dbfs/tmp/stuart.lynn@databricks.com/OpenGreenspace/outputs/checkpoint/2024-09-11T15:35:23.953585' configured for this session.\nGDAL 3.4.1, released 2021/12/27\n\n\n"
     ]
    }
   ],
   "source": [
    "spark.conf.set(\"spark.sql.adaptive.coalescePartitions.enabled\", \"false\")\n",
    "mos.enable_mosaic(spark, dbutils)\n",
    "mos.enable_gdal(spark, with_checkpoint_path=f\"/dbfs{output_path}/checkpoint/{datetime.now().isoformat()}\")"
   ]
  },
  {
   "cell_type": "markdown",
   "metadata": {
    "application/vnd.databricks.v1+cell": {
     "cellMetadata": {
      "byteLimit": 2048000,
      "rowLimit": 10000
     },
     "inputWidgets": {},
     "nuid": "d3ee13d3-5cbc-4cc4-83e6-b6693702d60f",
     "showTitle": false,
     "title": ""
    }
   },
   "source": [
    "Mosaic has specialised readers for geopackages, file geodatabases, shapefiles and other GDAL supported vector data formats (see [docs](https://databrickslabs.github.io/mosaic/api/vector-format-readers.html) for more info).\n",
    "\n",
    "It even has a mechanism for parallelising the read process by 'chunking' the source data and allocating a chunk of features to be read to a Spark task ([docs](https://databrickslabs.github.io/mosaic/api/vector-format-readers.html#mos-read-format-multi-read-ogr))."
   ]
  },
  {
   "cell_type": "code",
   "execution_count": 0,
   "metadata": {
    "application/vnd.databricks.v1+cell": {
     "cellMetadata": {
      "byteLimit": 2048000,
      "rowLimit": 10000
     },
     "inputWidgets": {},
     "nuid": "d3cc4679-f192-4f11-aff1-0b84683682d6",
     "showTitle": false,
     "title": ""
    }
   },
   "outputs": [
    {
     "output_type": "stream",
     "name": "stderr",
     "output_type": "stream",
     "text": [
      "/databricks/spark/python/pyspark/sql/context.py:117: FutureWarning: Deprecated in 3.0.0. Use SparkSession.builder.getOrCreate() instead.\n  warnings.warn(\n/databricks/spark/python/pyspark/sql/dataframe.py:149: UserWarning: DataFrame constructor is internal. Do not directly use it.\n  warnings.warn(\"DataFrame constructor is internal. Do not directly use it.\")\n"
     ]
    }
   ],
   "source": [
    "green_spaces = (\n",
    "  mos.read().format(\"multi_read_ogr\")\n",
    "  .option(\"chunkSize\", \"500\")\n",
    "  .option(\"layerName\", \"greenspace_site\")\n",
    "  .load(f\"{data_root}/geopackage/Data/opgrsp_gb.gpkg\")\n",
    "  ).cache()"
   ]
  },
  {
   "cell_type": "code",
   "execution_count": 0,
   "metadata": {
    "application/vnd.databricks.v1+cell": {
     "cellMetadata": {
      "byteLimit": 2048000,
      "rowLimit": 10000
     },
     "inputWidgets": {},
     "nuid": "4adc3285-1f9a-4b8d-b608-b020eaaa7948",
     "showTitle": false,
     "title": ""
    }
   },
   "outputs": [
    {
     "output_type": "stream",
     "name": "stdout",
     "output_type": "stream",
     "text": [
      "+--------------------+--------------------+--------------------+------------------+------------------+------------------+--------------------+-------------+\n|                  id|            function|  distinctive_name_1|distinctive_name_2|distinctive_name_3|distinctive_name_4|            geometry|geometry_srid|\n+--------------------+--------------------+--------------------+------------------+------------------+------------------+--------------------+-------------+\n|10687FC3-B01A-64A...|   Religious Grounds|   St Helen's Church|                  |                  |                  |MULTIPOLYGON (((4...|        27700|\n|10687FB4-EBA1-64A...|   Religious Grounds|Old Kilpatrick Pa...|                  |                  |                  |MULTIPOLYGON (((2...|        27700|\n|10687F6C-4D71-64A...|       Playing Field|                    |                  |                  |                  |MULTIPOLYGON (((3...|        27700|\n|10688009-8491-64A...|          Play Space|                    |                  |                  |                  |MULTIPOLYGON (((6...|        27700|\n|10687F8B-0A4A-64A...|Other Sports Faci...|                    |                  |                  |                  |MULTIPOLYGON (((2...|        27700|\n+--------------------+--------------------+--------------------+------------------+------------------+------------------+--------------------+-------------+\n\n"
     ]
    }
   ],
   "source": [
    "green_spaces.display()"
   ]
  },
  {
   "cell_type": "markdown",
   "metadata": {
    "application/vnd.databricks.v1+cell": {
     "cellMetadata": {},
     "inputWidgets": {},
     "nuid": "6bb90288-0559-4272-968a-04ff48282ae4",
     "showTitle": false,
     "title": ""
    }
   },
   "source": [
    "For the purposes of this demo, we'll select one type of green space for our analysis (golf courses).\n",
    "\n",
    "The feature geometries are supplied in British National Grid projection. To make our data processing easier, we'll reproject this into EPSG:4326.\n",
    "\n",
    "Many of the feature geometries are compound geometries, i.e. `MULTIPOLYGON`. For the sake of keeping the task as simple as possible, we'll unpack these into their constituent parts."
   ]
  },
  {
   "cell_type": "code",
   "execution_count": 0,
   "metadata": {
    "application/vnd.databricks.v1+cell": {
     "cellMetadata": {
      "byteLimit": 2048000,
      "rowLimit": 10000
     },
     "inputWidgets": {},
     "nuid": "a3f1e217-5a34-41a6-ad01-c6897340174d",
     "showTitle": false,
     "title": ""
    }
   },
   "outputs": [
    {
     "output_type": "execute_result",
     "data": {
      "text/plain": [
       "2998"
      ]
     },
     "execution_count": 11,
     "metadata": {},
     "output_type": "execute_result"
    }
   ],
   "source": [
    "aoi_type = \"Golf Course\"\n",
    "aoi_table_ref = f\"{CATALOG}.{SCHEMA}.aois\"\n",
    "\n",
    "aois = (\n",
    "  green_spaces\n",
    "  .where(F.col(\"function\") == aoi_type)\n",
    "  .withColumn(\"geometry_4326\", mos.st_updatesrid(\"geometry\", \"geometry_srid\", F.lit(4326)))\n",
    "  )\n",
    "aois.write.mode(\"overwrite\").saveAsTable(aoi_table_ref)\n",
    "aois = spark.table(aoi_table_ref)\n",
    "aois.count()"
   ]
  },
  {
   "cell_type": "markdown",
   "metadata": {
    "application/vnd.databricks.v1+cell": {
     "cellMetadata": {},
     "inputWidgets": {},
     "nuid": "6419def2-7624-45ca-85a9-0a26dc98b7a6",
     "showTitle": false,
     "title": ""
    }
   },
   "source": [
    "Let's go ahead and examine a subset of these using the excellent kepler.gl mapping tool."
   ]
  },
  {
   "cell_type": "code",
   "execution_count": 0,
   "metadata": {
    "application/vnd.databricks.v1+cell": {
     "cellMetadata": {
      "byteLimit": 2048000,
      "rowLimit": 10000
     },
     "inputWidgets": {},
     "nuid": "2f8a116c-7757-49c3-92c9-8452c511a259",
     "showTitle": false,
     "title": ""
    }
   },
   "outputs": [
    {
     "output_type": "execute_result",
     "data": {
      "text/plain": [
       "4"
      ]
     },
     "execution_count": 11,
     "metadata": {},
     "output_type": "execute_result"
    }
   ],
   "source": [
    "filter_geom = \"POLYGON (( -5.15 51.8, -4.9 51.8, -4.9 51.65, -5.15 51.65, -5.15 51.8 ))\"\n",
    "\n",
    "to_show = (\n",
    "  aois.select(\"id\", \"geometry_4326\")\n",
    "  .where(mos.st_intersects(\"geometry_4326\", F.lit(filter_geom)))\n",
    "  )\n",
    "\n",
    "to_show.count()"
   ]
  },
  {
   "cell_type": "markdown",
   "metadata": {
    "application/vnd.databricks.v1+cell": {
     "cellMetadata": {},
     "inputWidgets": {},
     "nuid": "15ea55d0-a429-4c89-890f-20d830344052",
     "showTitle": false,
     "title": ""
    }
   },
   "source": [
    "Here's an example of the map we'd expect to see if we run the following cell.\n",
    "<img src='./assets/wales-course.png'/>"
   ]
  },
  {
   "cell_type": "code",
   "execution_count": 0,
   "metadata": {
    "application/vnd.databricks.v1+cell": {
     "cellMetadata": {
      "byteLimit": 2048000,
      "rowLimit": 10000
     },
     "inputWidgets": {},
     "nuid": "2e9113b3-be06-43d0-8d28-3594c0515577",
     "showTitle": false,
     "title": ""
    }
   },
   "outputs": [],
   "source": [
    "%%mosaic_kepler\n",
    "to_show geometry_4326 geometry"
   ]
  },
  {
   "cell_type": "markdown",
   "metadata": {
    "application/vnd.databricks.v1+cell": {
     "cellMetadata": {},
     "inputWidgets": {},
     "nuid": "bac81ea5-ea3c-4887-b069-d5d73f3a60bc",
     "showTitle": false,
     "title": ""
    }
   },
   "source": [
    "## 2. Acquire imagery from the Planetary Computer"
   ]
  },
  {
   "cell_type": "markdown",
   "metadata": {
    "application/vnd.databricks.v1+cell": {
     "cellMetadata": {},
     "inputWidgets": {},
     "nuid": "0addc6ff-4d14-4e66-bcf8-da0c95aa4cb1",
     "showTitle": false,
     "title": ""
    }
   },
   "source": [
    "It is fairly easy to interface with the pystac_client and remote raster data catalogs. We can browse resource collections and individual assets.\n",
    "\n",
    "For our search here, we'll take the geometries of our AoIs, express them as geojson and use them to query the catalog. A time range filter can also be supplied, as well as an upper bound on the level of cloud cover in the imagery."
   ]
  },
  {
   "cell_type": "code",
   "execution_count": 0,
   "metadata": {
    "application/vnd.databricks.v1+cell": {
     "cellMetadata": {
      "byteLimit": 2048000,
      "rowLimit": 10000
     },
     "inputWidgets": {},
     "nuid": "fd1b19ae-1278-4a1a-b911-410a6c97ef0e",
     "showTitle": false,
     "title": ""
    }
   },
   "outputs": [],
   "source": [
    "time_range = \"2021-05-01/2021-07-31\""
   ]
  },
  {
   "cell_type": "code",
   "execution_count": 0,
   "metadata": {
    "application/vnd.databricks.v1+cell": {
     "cellMetadata": {
      "byteLimit": 2048000,
      "rowLimit": 10000
     },
     "inputWidgets": {},
     "nuid": "19a81406-99e3-4bca-ae97-75875d67055e",
     "showTitle": false,
     "title": ""
    }
   },
   "outputs": [],
   "source": [
    "json_geoms = (\n",
    "  aois\n",
    "  .select(\"id\", \"geometry_4326\")\n",
    "  .withColumn(\"geojson\", mos.st_asgeojson(\"geometry_4326\"))\n",
    ")"
   ]
  },
  {
   "cell_type": "code",
   "execution_count": 0,
   "metadata": {
    "application/vnd.databricks.v1+cell": {
     "cellMetadata": {
      "byteLimit": 2048000,
      "rowLimit": 10000
     },
     "inputWidgets": {},
     "nuid": "a24b2174-f14b-4748-a4cf-cc87a9fe94db",
     "showTitle": false,
     "title": ""
    }
   },
   "outputs": [
    {
     "output_type": "stream",
     "name": "stdout",
     "output_type": "stream",
     "text": [
      "+--------------------+--------------------+--------------------+\n|                  id|       geometry_4326|             geojson|\n+--------------------+--------------------+--------------------+\n|10687FF9-1ECE-64A...|MULTIPOLYGON (((-...|{\"type\":\"MultiPol...|\n|10687FB5-6AE6-64A...|MULTIPOLYGON (((-...|{\"type\":\"MultiPol...|\n|106880D8-695B-64A...|MULTIPOLYGON (((0...|{\"type\":\"MultiPol...|\n|10687FB5-9CD0-64A...|MULTIPOLYGON (((-...|{\"type\":\"MultiPol...|\n|10687F75-E624-64A...|MULTIPOLYGON (((-...|{\"type\":\"MultiPol...|\n+--------------------+--------------------+--------------------+\n\n"
     ]
    }
   ],
   "source": [
    "json_geoms.display()"
   ]
  },
  {
   "cell_type": "markdown",
   "metadata": {
    "application/vnd.databricks.v1+cell": {
     "cellMetadata": {},
     "inputWidgets": {},
     "nuid": "be24a15c-36d6-4061-908e-981cc3bfc283",
     "showTitle": false,
     "title": ""
    }
   },
   "source": [
    "Our framework allows for easy preparation of stac requests with only one line of code. This data is delta ready as this point and can easily be stored for lineage purposes.\n",
    "\n",
    "For the purposes of this exercise, we'll retain the relationship between granules / sweeps and areas of interest by creating 'sets' of identifiers against each granule."
   ]
  },
  {
   "cell_type": "code",
   "execution_count": 0,
   "metadata": {
    "application/vnd.databricks.v1+cell": {
     "cellMetadata": {
      "byteLimit": 2048000,
      "rowLimit": 10000
     },
     "inputWidgets": {},
     "nuid": "0c0beb7f-7dcc-4ff7-9038-ef86badb72b7",
     "showTitle": false,
     "title": ""
    }
   },
   "outputs": [
    {
     "output_type": "stream",
     "name": "stdout",
     "output_type": "stream",
     "text": [
      "+--------------------+----+--------------------+--------------------+--------------------+\n|             item_id|name|            datetime|                 ids|                href|\n+--------------------+----+--------------------+--------------------+--------------------+\n|S2A_MSIL2A_202105...| B12|2021-05-31T11:06:...|[10687FA8-890B-64...|https://sentinel2...|\n|S2A_MSIL2A_202105...| B01|2021-05-31T11:06:...|[10687FA8-31EF-64...|https://sentinel2...|\n|S2A_MSIL2A_202106...| B01|2021-06-29T11:43:...|[10687F88-C137-64...|https://sentinel2...|\n|S2A_MSIL2A_202107...| B09|2021-07-20T11:06:...|[10687FD9-0307-64...|https://sentinel2...|\n|S2A_MSIL2A_202107...| AOT|2021-07-20T11:06:...|[10687F95-83D6-64...|https://sentinel2...|\n+--------------------+----+--------------------+--------------------+--------------------+\n\n"
     ]
    }
   ],
   "source": [
    "eod_items = (\n",
    "  library.get_assets_for_cells(\n",
    "    json_geoms.repartition(sc.defaultParallelism),\n",
    "    time_range,\n",
    "    \"sentinel-2-l2a\"\n",
    "    )\n",
    "  .where(F.col(\"asset.type\") == \"image/tiff; application=geotiff; profile=cloud-optimized\")\n",
    "  .where(F.col(\"asset.name\") != \"preview\")\n",
    "  .groupBy(\"item_id\", \"asset.name\", \"item_properties.datetime\")\n",
    "  .agg(\n",
    "    F.collect_set(\"id\").alias(\"ids\"),\n",
    "    F.first(\"asset.href\").alias(\"href\"),\n",
    "    )\n",
    "  ).cache()\n",
    "eod_items.display()"
   ]
  },
  {
   "cell_type": "code",
   "execution_count": 0,
   "metadata": {
    "application/vnd.databricks.v1+cell": {
     "cellMetadata": {
      "byteLimit": 2048000,
      "rowLimit": 10000
     },
     "inputWidgets": {},
     "nuid": "fcbb0b45-884e-4aaf-a36e-41eb260877e0",
     "showTitle": false,
     "title": ""
    }
   },
   "outputs": [
    {
     "output_type": "execute_result",
     "data": {
      "text/plain": [
       "7120"
      ]
     },
     "execution_count": 17,
     "metadata": {},
     "output_type": "execute_result"
    }
   ],
   "source": [
    "eod_items.count()"
   ]
  },
  {
   "cell_type": "markdown",
   "metadata": {
    "application/vnd.databricks.v1+cell": {
     "cellMetadata": {},
     "inputWidgets": {},
     "nuid": "32d02ee4-bfd1-49c2-866e-d9439dc58734",
     "showTitle": false,
     "title": ""
    }
   },
   "source": [
    "### Download images into DBFS\n",
    "Now we have interrogated the catalogue, we can go ahead and directly download the imagery from the Planetary Computer storage account."
   ]
  },
  {
   "cell_type": "code",
   "execution_count": 0,
   "metadata": {
    "application/vnd.databricks.v1+cell": {
     "cellMetadata": {
      "byteLimit": 2048000,
      "rowLimit": 10000
     },
     "inputWidgets": {},
     "nuid": "97db5c63-ef7a-434a-bf99-28086d75ab50",
     "showTitle": false,
     "title": ""
    }
   },
   "outputs": [],
   "source": [
    "imagery_root = f\"/tmp/{current_user}/{data_product}/imagery\"\n",
    "dbutils.fs.mkdirs(imagery_root)\n",
    "\n",
    "imagery_table_ref = f\"{CATALOG}.{SCHEMA}.imagery\""
   ]
  },
  {
   "cell_type": "code",
   "execution_count": 0,
   "metadata": {
    "application/vnd.databricks.v1+cell": {
     "cellMetadata": {
      "byteLimit": 2048000,
      "rowLimit": 10000
     },
     "inputWidgets": {},
     "nuid": "babea4b6-c5f8-4a14-8802-6c676942b91b",
     "showTitle": false,
     "title": ""
    }
   },
   "outputs": [],
   "source": [
    "downloads = (\n",
    "  eod_items\n",
    "  .withColumn(\"downloaded_path\", library.download_asset(F.col(\"href\"), F.lit(f\"/dbfs{imagery_root}\")))\n",
    "  )\n",
    "downloads.write.mode(\"overwrite\").saveAsTable(imagery_table_ref)"
   ]
  },
  {
   "cell_type": "code",
   "execution_count": 0,
   "metadata": {
    "application/vnd.databricks.v1+cell": {
     "cellMetadata": {
      "byteLimit": 2048000,
      "rowLimit": 10000
     },
     "inputWidgets": {},
     "nuid": "8cf05099-7e8e-4eb1-8f94-d2ec0d415296",
     "showTitle": false,
     "title": ""
    }
   },
   "outputs": [
    {
     "output_type": "stream",
     "name": "stdout",
     "output_type": "stream",
     "text": [
      "+--------------------+----+--------------------+--------------------+--------------------+--------------------+\n|             item_id|name|            datetime|                 ids|                href|     downloaded_path|\n+--------------------+----+--------------------+--------------------+--------------------+--------------------+\n|S2A_MSIL2A_202105...| B12|2021-05-31T11:06:...|[10687FA8-890B-64...|https://sentinel2...|/dbfs/tmp/stuart....|\n|S2A_MSIL2A_202105...| B01|2021-05-31T11:06:...|[10687FA8-31EF-64...|https://sentinel2...|/dbfs/tmp/stuart....|\n|S2A_MSIL2A_202106...| B01|2021-06-29T11:43:...|[10687F88-C137-64...|https://sentinel2...|/dbfs/tmp/stuart....|\n|S2A_MSIL2A_202107...| B09|2021-07-20T11:06:...|[10687FD9-0307-64...|https://sentinel2...|/dbfs/tmp/stuart....|\n|S2A_MSIL2A_202107...| AOT|2021-07-20T11:06:...|[10687F95-83D6-64...|https://sentinel2...|/dbfs/tmp/stuart....|\n+--------------------+----+--------------------+--------------------+--------------------+--------------------+\n\n"
     ]
    }
   ],
   "source": [
    "spark.table(imagery_table_ref).display()"
   ]
  },
  {
   "cell_type": "code",
   "execution_count": 0,
   "metadata": {
    "application/vnd.databricks.v1+cell": {
     "cellMetadata": {
      "byteLimit": 2048000,
      "rowLimit": 10000
     },
     "inputWidgets": {},
     "nuid": "9f9a3db8-f477-40c4-9e8e-b35b3af3e29d",
     "showTitle": false,
     "title": ""
    }
   },
   "outputs": [
    {
     "output_type": "execute_result",
     "data": {
      "text/plain": [
       "7120"
      ]
     },
     "execution_count": 21,
     "metadata": {},
     "output_type": "execute_result"
    }
   ],
   "source": [
    "spark.table(imagery_table_ref).count()"
   ]
  },
  {
   "cell_type": "code",
   "execution_count": 0,
   "metadata": {
    "application/vnd.databricks.v1+cell": {
     "cellMetadata": {
      "byteLimit": 2048000,
      "rowLimit": 10000
     },
     "inputWidgets": {},
     "nuid": "32f7bc8b-303d-4876-95c9-91eeb942a1b0",
     "showTitle": false,
     "title": ""
    }
   },
   "outputs": [
    {
     "output_type": "display_data",
     "data": {
      "text/html": [
       "<style scoped>\n",
       "  .table-result-container {\n",
       "    max-height: 300px;\n",
       "    overflow: auto;\n",
       "  }\n",
       "  table, th, td {\n",
       "    border: 1px solid black;\n",
       "    border-collapse: collapse;\n",
       "  }\n",
       "  th, td {\n",
       "    padding: 5px;\n",
       "  }\n",
       "  th {\n",
       "    text-align: left;\n",
       "  }\n",
       "</style><div class='table-result-container'><table class='table-result'><thead style='background-color: white'><tr><th>item_id</th><th>name</th><th>datetime</th><th>ids</th><th>href</th><th>downloaded_path</th></tr></thead><tbody></tbody></table></div>"
      ]
     },
     "metadata": {
      "application/vnd.databricks.v1+output": {
       "addedWidgets": {},
       "aggData": [],
       "aggError": "",
       "aggOverflow": false,
       "aggSchema": [],
       "aggSeriesLimitReached": false,
       "aggType": "",
       "arguments": {},
       "columnCustomDisplayInfos": {},
       "data": [],
       "datasetInfos": [],
       "dbfsResultPath": null,
       "isJsonSchema": true,
       "metadata": {},
       "overflow": false,
       "plotOptions": {
        "customPlotOptions": {},
        "displayType": "table",
        "pivotAggregation": null,
        "pivotColumns": null,
        "xColumns": null,
        "yColumns": null
       },
       "removedWidgets": [],
       "schema": [
        {
         "metadata": "{}",
         "name": "item_id",
         "type": "\"string\""
        },
        {
         "metadata": "{}",
         "name": "name",
         "type": "\"string\""
        },
        {
         "metadata": "{}",
         "name": "datetime",
         "type": "\"string\""
        },
        {
         "metadata": "{}",
         "name": "ids",
         "type": "{\"type\":\"array\",\"elementType\":\"string\",\"containsNull\":true}"
        },
        {
         "metadata": "{}",
         "name": "href",
         "type": "\"string\""
        },
        {
         "metadata": "{}",
         "name": "downloaded_path",
         "type": "\"string\""
        }
       ],
       "type": "table"
      }
     },
     "output_type": "display_data"
    }
   ],
   "source": [
    "spark.table(imagery_table_ref).where(\"downloaded_path = ''\").display()"
   ]
  }
 ],
 "metadata": {
  "application/vnd.databricks.v1+notebook": {
   "dashboards": [],
   "environmentMetadata": null,
   "language": "python",
   "notebookMetadata": {
    "mostRecentlyExecutedCommandWithImplicitDF": {
     "commandId": 4468866564257697,
     "dataframes": [
      "_sqldf"
     ]
    },
    "pythonIndentUnit": 2
   },
   "notebookName": "00 Acquire data",
   "widgets": {}
  }
 },
 "nbformat": 4,
 "nbformat_minor": 0
}
