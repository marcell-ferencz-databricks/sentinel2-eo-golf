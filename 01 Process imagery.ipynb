{
 "cells": [
  {
   "cell_type": "markdown",
   "metadata": {
    "application/vnd.databricks.v1+cell": {
     "cellMetadata": {
      "byteLimit": 2048000,
      "rowLimit": 10000
     },
     "inputWidgets": {},
     "nuid": "ddd8a34e-c04c-4660-84bc-c1057ed9ec16",
     "showTitle": false,
     "title": ""
    }
   },
   "source": [
    "# Raster acquisition, processing and analysis with Databricks\n",
    "\n",
    "Continuing from the previous notebook, this notebook will demonstrate how to:\n",
    "- Read the freshly downloaded imagery into a Spark Dataframe with Mosaic, reproject each raster and collate them into multiband files;\n",
    "- Join this imagery dataset to the areas of interest and use the AoI geometries to clip the rasters, retaining only the pixels that fall inside each AoI"
   ]
  },
  {
   "cell_type": "markdown",
   "metadata": {
    "application/vnd.databricks.v1+cell": {
     "cellMetadata": {
      "byteLimit": 2048000,
      "rowLimit": 10000
     },
     "inputWidgets": {},
     "nuid": "469a50a3-a5d9-4094-a211-0fa60c8dbc09",
     "showTitle": false,
     "title": ""
    }
   },
   "source": [
    "## Install the libraries and prepare the environment"
   ]
  },
  {
   "cell_type": "markdown",
   "metadata": {
    "application/vnd.databricks.v1+cell": {
     "cellMetadata": {
      "byteLimit": 2048000,
      "rowLimit": 10000
     },
     "inputWidgets": {},
     "nuid": "fa0e3cc4-5baf-48ad-be02-7d3b5c82ebd3",
     "showTitle": false,
     "title": ""
    }
   },
   "source": [
    "For this demo we will require a few spatial libraries that can be easily installed via pip install. We will be using gdal, rasterio, pystac and databricks-mosaic for data download and data manipulation. We will use planetary computer as the source of the raster data for the analysis."
   ]
  },
  {
   "cell_type": "code",
   "execution_count": 0,
   "metadata": {
    "application/vnd.databricks.v1+cell": {
     "cellMetadata": {
      "byteLimit": 2048000,
      "rowLimit": 10000
     },
     "inputWidgets": {},
     "nuid": "3a123b1c-fce9-468c-b100-79235d95f492",
     "showTitle": false,
     "title": ""
    },
    "jupyter": {
     "outputs_hidden": true
    }
   },
   "outputs": [
    {
     "output_type": "stream",
     "name": "stdout",
     "output_type": "stream",
     "text": [
      "\u001B[43mNote: you may need to restart the kernel using dbutils.library.restartPython() to use updated packages.\u001B[0m\nProcessing /Workspace/Users/stuart.lynn@databricks.com/customers/Arup/sentinel2-demo/databricks_mosaic-0.4.3-py3-none-any.whl\nCollecting h3<4.0,>=3.7\n  Using cached h3-3.7.7-cp310-cp310-manylinux_2_17_x86_64.manylinux2014_x86_64.whl (1.2 MB)\nCollecting keplergl==0.3.2\n  Using cached keplergl-0.3.2-py2.py3-none-any.whl\nCollecting geopandas<0.14.4,>=0.14\n  Using cached geopandas-0.14.3-py3-none-any.whl (1.1 MB)\nRequirement already satisfied: ipython<8.11,>=7.4.2 in /databricks/python3/lib/python3.10/site-packages (from databricks-mosaic==0.4.3) (8.10.0)\nCollecting Shapely>=1.6.4.post2\n  Using cached shapely-2.0.6-cp310-cp310-manylinux_2_17_x86_64.manylinux2014_x86_64.whl (2.5 MB)\nRequirement already satisfied: ipywidgets<8,>=7.0.0 in /databricks/python3/lib/python3.10/site-packages (from keplergl==0.3.2->databricks-mosaic==0.4.3) (7.7.2)\nRequirement already satisfied: pandas>=0.23.0 in /databricks/python3/lib/python3.10/site-packages (from keplergl==0.3.2->databricks-mosaic==0.4.3) (1.4.4)\nCollecting traittypes>=0.2.1\n  Using cached traittypes-0.2.1-py2.py3-none-any.whl (8.6 kB)\nCollecting pyproj>=3.3.0\n  Using cached pyproj-3.6.1-cp310-cp310-manylinux_2_17_x86_64.manylinux2014_x86_64.whl (8.3 MB)\nRequirement already satisfied: packaging in /databricks/python3/lib/python3.10/site-packages (from geopandas<0.14.4,>=0.14->databricks-mosaic==0.4.3) (21.3)\nCollecting fiona>=1.8.21\n  Using cached fiona-1.10.0-cp310-cp310-manylinux_2_17_x86_64.manylinux2014_x86_64.whl (17.3 MB)\nRequirement already satisfied: pexpect>4.3 in /databricks/python3/lib/python3.10/site-packages (from ipython<8.11,>=7.4.2->databricks-mosaic==0.4.3) (4.8.0)\nRequirement already satisfied: jedi>=0.16 in /databricks/python3/lib/python3.10/site-packages (from ipython<8.11,>=7.4.2->databricks-mosaic==0.4.3) (0.18.1)\nRequirement already satisfied: decorator in /databricks/python3/lib/python3.10/site-packages (from ipython<8.11,>=7.4.2->databricks-mosaic==0.4.3) (5.1.1)\nRequirement already satisfied: prompt-toolkit<3.1.0,>=3.0.30 in /databricks/python3/lib/python3.10/site-packages (from ipython<8.11,>=7.4.2->databricks-mosaic==0.4.3) (3.0.36)\nRequirement already satisfied: pygments>=2.4.0 in /databricks/python3/lib/python3.10/site-packages (from ipython<8.11,>=7.4.2->databricks-mosaic==0.4.3) (2.11.2)\nRequirement already satisfied: traitlets>=5 in /databricks/python3/lib/python3.10/site-packages (from ipython<8.11,>=7.4.2->databricks-mosaic==0.4.3) (5.1.1)\nRequirement already satisfied: stack-data in /databricks/python3/lib/python3.10/site-packages (from ipython<8.11,>=7.4.2->databricks-mosaic==0.4.3) (0.6.2)\nRequirement already satisfied: backcall in /databricks/python3/lib/python3.10/site-packages (from ipython<8.11,>=7.4.2->databricks-mosaic==0.4.3) (0.2.0)\nRequirement already satisfied: pickleshare in /databricks/python3/lib/python3.10/site-packages (from ipython<8.11,>=7.4.2->databricks-mosaic==0.4.3) (0.7.5)\nRequirement already satisfied: matplotlib-inline in /databricks/python3/lib/python3.10/site-packages (from ipython<8.11,>=7.4.2->databricks-mosaic==0.4.3) (0.1.6)\nRequirement already satisfied: certifi in /databricks/python3/lib/python3.10/site-packages (from fiona>=1.8.21->geopandas<0.14.4,>=0.14->databricks-mosaic==0.4.3) (2022.9.14)\nCollecting cligj>=0.5\n  Using cached cligj-0.7.2-py3-none-any.whl (7.1 kB)\nRequirement already satisfied: attrs>=19.2.0 in /databricks/python3/lib/python3.10/site-packages (from fiona>=1.8.21->geopandas<0.14.4,>=0.14->databricks-mosaic==0.4.3) (21.4.0)\nCollecting click-plugins>=1.0\n  Using cached click_plugins-1.1.1-py2.py3-none-any.whl (7.5 kB)\nRequirement already satisfied: click~=8.0 in /databricks/python3/lib/python3.10/site-packages (from fiona>=1.8.21->geopandas<0.14.4,>=0.14->databricks-mosaic==0.4.3) (8.0.4)\nRequirement already satisfied: ipykernel>=4.5.1 in /databricks/python3/lib/python3.10/site-packages (from ipywidgets<8,>=7.0.0->keplergl==0.3.2->databricks-mosaic==0.4.3) (6.17.1)\nRequirement already satisfied: jupyterlab-widgets<3,>=1.0.0 in /databricks/python3/lib/python3.10/site-packages (from ipywidgets<8,>=7.0.0->keplergl==0.3.2->databricks-mosaic==0.4.3) (1.0.0)\nRequirement already satisfied: widgetsnbextension~=3.6.0 in /databricks/python3/lib/python3.10/site-packages (from ipywidgets<8,>=7.0.0->keplergl==0.3.2->databricks-mosaic==0.4.3) (3.6.1)\nRequirement already satisfied: ipython-genutils~=0.2.0 in /databricks/python3/lib/python3.10/site-packages (from ipywidgets<8,>=7.0.0->keplergl==0.3.2->databricks-mosaic==0.4.3) (0.2.0)\nRequirement already satisfied: parso<0.9.0,>=0.8.0 in /databricks/python3/lib/python3.10/site-packages (from jedi>=0.16->ipython<8.11,>=7.4.2->databricks-mosaic==0.4.3) (0.8.3)\nRequirement already satisfied: pytz>=2020.1 in /databricks/python3/lib/python3.10/site-packages (from pandas>=0.23.0->keplergl==0.3.2->databricks-mosaic==0.4.3) (2022.1)\nRequirement already satisfied: python-dateutil>=2.8.1 in /databricks/python3/lib/python3.10/site-packages (from pandas>=0.23.0->keplergl==0.3.2->databricks-mosaic==0.4.3) (2.8.2)\nRequirement already satisfied: numpy>=1.21.0 in /databricks/python3/lib/python3.10/site-packages (from pandas>=0.23.0->keplergl==0.3.2->databricks-mosaic==0.4.3) (1.21.5)\nRequirement already satisfied: ptyprocess>=0.5 in /databricks/python3/lib/python3.10/site-packages (from pexpect>4.3->ipython<8.11,>=7.4.2->databricks-mosaic==0.4.3) (0.7.0)\nRequirement already satisfied: wcwidth in /databricks/python3/lib/python3.10/site-packages (from prompt-toolkit<3.1.0,>=3.0.30->ipython<8.11,>=7.4.2->databricks-mosaic==0.4.3) (0.2.5)\nRequirement already satisfied: pyparsing!=3.0.5,>=2.0.2 in /databricks/python3/lib/python3.10/site-packages (from packaging->geopandas<0.14.4,>=0.14->databricks-mosaic==0.4.3) (3.0.9)\nRequirement already satisfied: executing>=1.2.0 in /databricks/python3/lib/python3.10/site-packages (from stack-data->ipython<8.11,>=7.4.2->databricks-mosaic==0.4.3) (1.2.0)\nRequirement already satisfied: pure-eval in /databricks/python3/lib/python3.10/site-packages (from stack-data->ipython<8.11,>=7.4.2->databricks-mosaic==0.4.3) (0.2.2)\nRequirement already satisfied: asttokens>=2.1.0 in /databricks/python3/lib/python3.10/site-packages (from stack-data->ipython<8.11,>=7.4.2->databricks-mosaic==0.4.3) (2.2.1)\nRequirement already satisfied: six in /usr/lib/python3/dist-packages (from asttokens>=2.1.0->stack-data->ipython<8.11,>=7.4.2->databricks-mosaic==0.4.3) (1.16.0)\nRequirement already satisfied: debugpy>=1.0 in /databricks/python3/lib/python3.10/site-packages (from ipykernel>=4.5.1->ipywidgets<8,>=7.0.0->keplergl==0.3.2->databricks-mosaic==0.4.3) (1.6.0)\nRequirement already satisfied: jupyter-client>=6.1.12 in /databricks/python3/lib/python3.10/site-packages (from ipykernel>=4.5.1->ipywidgets<8,>=7.0.0->keplergl==0.3.2->databricks-mosaic==0.4.3) (7.3.4)\nRequirement already satisfied: psutil in /databricks/python3/lib/python3.10/site-packages (from ipykernel>=4.5.1->ipywidgets<8,>=7.0.0->keplergl==0.3.2->databricks-mosaic==0.4.3) (5.9.0)\nRequirement already satisfied: pyzmq>=17 in /databricks/python3/lib/python3.10/site-packages (from ipykernel>=4.5.1->ipywidgets<8,>=7.0.0->keplergl==0.3.2->databricks-mosaic==0.4.3) (23.2.0)\nRequirement already satisfied: tornado>=6.1 in /databricks/python3/lib/python3.10/site-packages (from ipykernel>=4.5.1->ipywidgets<8,>=7.0.0->keplergl==0.3.2->databricks-mosaic==0.4.3) (6.1)\nRequirement already satisfied: nest-asyncio in /databricks/python3/lib/python3.10/site-packages (from ipykernel>=4.5.1->ipywidgets<8,>=7.0.0->keplergl==0.3.2->databricks-mosaic==0.4.3) (1.5.5)\nRequirement already satisfied: notebook>=4.4.1 in /databricks/python3/lib/python3.10/site-packages (from widgetsnbextension~=3.6.0->ipywidgets<8,>=7.0.0->keplergl==0.3.2->databricks-mosaic==0.4.3) (6.4.12)\nRequirement already satisfied: entrypoints in /databricks/python3/lib/python3.10/site-packages (from jupyter-client>=6.1.12->ipykernel>=4.5.1->ipywidgets<8,>=7.0.0->keplergl==0.3.2->databricks-mosaic==0.4.3) (0.4)\nRequirement already satisfied: jupyter-core>=4.9.2 in /databricks/python3/lib/python3.10/site-packages (from jupyter-client>=6.1.12->ipykernel>=4.5.1->ipywidgets<8,>=7.0.0->keplergl==0.3.2->databricks-mosaic==0.4.3) (4.11.2)\nRequirement already satisfied: jinja2 in /databricks/python3/lib/python3.10/site-packages (from notebook>=4.4.1->widgetsnbextension~=3.6.0->ipywidgets<8,>=7.0.0->keplergl==0.3.2->databricks-mosaic==0.4.3) (2.11.3)\nRequirement already satisfied: Send2Trash>=1.8.0 in /databricks/python3/lib/python3.10/site-packages (from notebook>=4.4.1->widgetsnbextension~=3.6.0->ipywidgets<8,>=7.0.0->keplergl==0.3.2->databricks-mosaic==0.4.3) (1.8.0)\nRequirement already satisfied: prometheus-client in /databricks/python3/lib/python3.10/site-packages (from notebook>=4.4.1->widgetsnbextension~=3.6.0->ipywidgets<8,>=7.0.0->keplergl==0.3.2->databricks-mosaic==0.4.3) (0.14.1)\nRequirement already satisfied: nbconvert>=5 in /databricks/python3/lib/python3.10/site-packages (from notebook>=4.4.1->widgetsnbextension~=3.6.0->ipywidgets<8,>=7.0.0->keplergl==0.3.2->databricks-mosaic==0.4.3) (6.4.4)\nRequirement already satisfied: terminado>=0.8.3 in /databricks/python3/lib/python3.10/site-packages (from notebook>=4.4.1->widgetsnbextension~=3.6.0->ipywidgets<8,>=7.0.0->keplergl==0.3.2->databricks-mosaic==0.4.3) (0.13.1)\nRequirement already satisfied: nbformat in /databricks/python3/lib/python3.10/site-packages (from notebook>=4.4.1->widgetsnbextension~=3.6.0->ipywidgets<8,>=7.0.0->keplergl==0.3.2->databricks-mosaic==0.4.3) (5.5.0)\nRequirement already satisfied: argon2-cffi in /databricks/python3/lib/python3.10/site-packages (from notebook>=4.4.1->widgetsnbextension~=3.6.0->ipywidgets<8,>=7.0.0->keplergl==0.3.2->databricks-mosaic==0.4.3) (21.3.0)\nRequirement already satisfied: nbclient<0.6.0,>=0.5.0 in /databricks/python3/lib/python3.10/site-packages (from nbconvert>=5->notebook>=4.4.1->widgetsnbextension~=3.6.0->ipywidgets<8,>=7.0.0->keplergl==0.3.2->databricks-mosaic==0.4.3) (0.5.13)\nRequirement already satisfied: bleach in /databricks/python3/lib/python3.10/site-packages (from nbconvert>=5->notebook>=4.4.1->widgetsnbextension~=3.6.0->ipywidgets<8,>=7.0.0->keplergl==0.3.2->databricks-mosaic==0.4.3) (4.1.0)\nRequirement already satisfied: testpath in /databricks/python3/lib/python3.10/site-packages (from nbconvert>=5->notebook>=4.4.1->widgetsnbextension~=3.6.0->ipywidgets<8,>=7.0.0->keplergl==0.3.2->databricks-mosaic==0.4.3) (0.6.0)\nRequirement already satisfied: defusedxml in /databricks/python3/lib/python3.10/site-packages (from nbconvert>=5->notebook>=4.4.1->widgetsnbextension~=3.6.0->ipywidgets<8,>=7.0.0->keplergl==0.3.2->databricks-mosaic==0.4.3) (0.7.1)\nRequirement already satisfied: beautifulsoup4 in /databricks/python3/lib/python3.10/site-packages (from nbconvert>=5->notebook>=4.4.1->widgetsnbextension~=3.6.0->ipywidgets<8,>=7.0.0->keplergl==0.3.2->databricks-mosaic==0.4.3) (4.11.1)\nRequirement already satisfied: jupyterlab-pygments in /databricks/python3/lib/python3.10/site-packages (from nbconvert>=5->notebook>=4.4.1->widgetsnbextension~=3.6.0->ipywidgets<8,>=7.0.0->keplergl==0.3.2->databricks-mosaic==0.4.3) (0.1.2)\nRequirement already satisfied: pandocfilters>=1.4.1 in /databricks/python3/lib/python3.10/site-packages (from nbconvert>=5->notebook>=4.4.1->widgetsnbextension~=3.6.0->ipywidgets<8,>=7.0.0->keplergl==0.3.2->databricks-mosaic==0.4.3) (1.5.0)\nRequirement already satisfied: mistune<2,>=0.8.1 in /databricks/python3/lib/python3.10/site-packages (from nbconvert>=5->notebook>=4.4.1->widgetsnbextension~=3.6.0->ipywidgets<8,>=7.0.0->keplergl==0.3.2->databricks-mosaic==0.4.3) (0.8.4)\nRequirement already satisfied: MarkupSafe>=0.23 in /databricks/python3/lib/python3.10/site-packages (from jinja2->notebook>=4.4.1->widgetsnbextension~=3.6.0->ipywidgets<8,>=7.0.0->keplergl==0.3.2->databricks-mosaic==0.4.3) (2.0.1)\nRequirement already satisfied: jsonschema>=2.6 in /databricks/python3/lib/python3.10/site-packages (from nbformat->notebook>=4.4.1->widgetsnbextension~=3.6.0->ipywidgets<8,>=7.0.0->keplergl==0.3.2->databricks-mosaic==0.4.3) (4.16.0)\nRequirement already satisfied: fastjsonschema in /databricks/python3/lib/python3.10/site-packages (from nbformat->notebook>=4.4.1->widgetsnbextension~=3.6.0->ipywidgets<8,>=7.0.0->keplergl==0.3.2->databricks-mosaic==0.4.3) (2.18.0)\nRequirement already satisfied: argon2-cffi-bindings in /databricks/python3/lib/python3.10/site-packages (from argon2-cffi->notebook>=4.4.1->widgetsnbextension~=3.6.0->ipywidgets<8,>=7.0.0->keplergl==0.3.2->databricks-mosaic==0.4.3) (21.2.0)\nRequirement already satisfied: pyrsistent!=0.17.0,!=0.17.1,!=0.17.2,>=0.14.0 in /databricks/python3/lib/python3.10/site-packages (from jsonschema>=2.6->nbformat->notebook>=4.4.1->widgetsnbextension~=3.6.0->ipywidgets<8,>=7.0.0->keplergl==0.3.2->databricks-mosaic==0.4.3) (0.18.0)\nRequirement already satisfied: cffi>=1.0.1 in /databricks/python3/lib/python3.10/site-packages (from argon2-cffi-bindings->argon2-cffi->notebook>=4.4.1->widgetsnbextension~=3.6.0->ipywidgets<8,>=7.0.0->keplergl==0.3.2->databricks-mosaic==0.4.3) (1.15.1)\nRequirement already satisfied: soupsieve>1.2 in /databricks/python3/lib/python3.10/site-packages (from beautifulsoup4->nbconvert>=5->notebook>=4.4.1->widgetsnbextension~=3.6.0->ipywidgets<8,>=7.0.0->keplergl==0.3.2->databricks-mosaic==0.4.3) (2.3.1)\nRequirement already satisfied: webencodings in /databricks/python3/lib/python3.10/site-packages (from bleach->nbconvert>=5->notebook>=4.4.1->widgetsnbextension~=3.6.0->ipywidgets<8,>=7.0.0->keplergl==0.3.2->databricks-mosaic==0.4.3) (0.5.1)\nRequirement already satisfied: pycparser in /databricks/python3/lib/python3.10/site-packages (from cffi>=1.0.1->argon2-cffi-bindings->argon2-cffi->notebook>=4.4.1->widgetsnbextension~=3.6.0->ipywidgets<8,>=7.0.0->keplergl==0.3.2->databricks-mosaic==0.4.3) (2.21)\nInstalling collected packages: h3, traittypes, Shapely, pyproj, cligj, click-plugins, fiona, geopandas, keplergl, databricks-mosaic\nSuccessfully installed Shapely-2.0.6 click-plugins-1.1.1 cligj-0.7.2 databricks-mosaic-0.4.3 fiona-1.10.0 geopandas-0.14.3 h3-3.7.7 keplergl-0.3.2 pyproj-3.6.1 traittypes-0.2.1\n\u001B[43mNote: you may need to restart the kernel using dbutils.library.restartPython() to use updated packages.\u001B[0m\n\u001B[43mNote: you may need to restart the kernel using dbutils.library.restartPython() to use updated packages.\u001B[0m\nERROR: pip's dependency resolver does not currently take into account all the packages that are installed. This behaviour is the source of the following dependency conflicts.\ndatabricks-sdk 0.1.6 requires requests<2.29.0,>=2.28.1, but you have requests 2.31.0 which is incompatible.\n\u001B[43mNote: you may need to restart the kernel using dbutils.library.restartPython() to use updated packages.\u001B[0m\n"
     ]
    }
   ],
   "source": [
    "import os\n",
    "\n",
    "notebook_path = dbutils.notebook.entry_point.getDbutils().notebook().getContext().notebookPath().get()\n",
    "project_path = os.path.dirname(notebook_path)\n",
    "os.environ[\"PROJECTCWD\"] = project_path\n",
    "\n",
    "%pip install /Workspace$PROJECTCWD/databricks_mosaic-0.4.3-py3-none-any.whl\n",
    "%pip install --quiet rasterio==1.3.5 gdal==3.4.1 pystac pystac_client planetary_computer tenacity rich osdatahub"
   ]
  },
  {
   "cell_type": "code",
   "execution_count": 0,
   "metadata": {
    "application/vnd.databricks.v1+cell": {
     "cellMetadata": {
      "byteLimit": 2048000,
      "rowLimit": 10000
     },
     "inputWidgets": {},
     "nuid": "c915a766-8989-49c2-bd1d-eca453d6f2a3",
     "showTitle": false,
     "title": ""
    }
   },
   "outputs": [],
   "source": [
    "%reload_ext autoreload\n",
    "%autoreload 2"
   ]
  },
  {
   "cell_type": "code",
   "execution_count": 0,
   "metadata": {
    "application/vnd.databricks.v1+cell": {
     "cellMetadata": {
      "byteLimit": 2048000,
      "rowLimit": 10000
     },
     "inputWidgets": {},
     "nuid": "a33de043-55b7-4fe0-9356-56df486d963e",
     "showTitle": false,
     "title": ""
    }
   },
   "outputs": [
    {
     "output_type": "execute_result",
     "data": {
      "text/plain": [
       "DataFrame[]"
      ]
     },
     "execution_count": 3,
     "metadata": {},
     "output_type": "execute_result"
    }
   ],
   "source": [
    "import library\n",
    "import mosaic as mos\n",
    "import os\n",
    "\n",
    "from datetime import datetime\n",
    "from pyspark.sql import functions as F\n",
    "from pyspark.sql import Window\n",
    "\n",
    "data_product = \"OpenGreenspace\"\n",
    "\n",
    "current_user = spark.sql(\"select current_user() as user\").first()[\"user\"]\n",
    "data_root = f\"/tmp/{current_user}/{data_product}/data\"\n",
    "output_path = data_root.replace(\"/data\", \"/outputs\")\n",
    "\n",
    "dbutils.fs.mkdirs(data_root)\n",
    "dbutils.fs.mkdirs(output_path)\n",
    "\n",
    "os.environ[\"DATADIR\"] = f\"/dbfs{data_root}\"\n",
    "os.environ[\"OUTDIR\"] = f\"/dbfs{output_path}\"\n",
    "\n",
    "CATALOG = \"stuart\"\n",
    "SCHEMA = \"arup\"\n",
    "\n",
    "spark.sql(f\"CREATE CATALOG IF NOT EXISTS {CATALOG}\")\n",
    "spark.sql(f\"CREATE SCHEMA IF NOT EXISTS {CATALOG}.{SCHEMA}\")"
   ]
  },
  {
   "cell_type": "code",
   "execution_count": 0,
   "metadata": {
    "application/vnd.databricks.v1+cell": {
     "cellMetadata": {
      "byteLimit": 2048000,
      "rowLimit": 10000
     },
     "inputWidgets": {},
     "nuid": "d59192d9-2d44-4bb6-ad6b-dc3e4d92634b",
     "showTitle": false,
     "title": ""
    }
   },
   "outputs": [
    {
     "output_type": "stream",
     "name": "stdout",
     "output_type": "stream",
     "text": [
      "GDAL enabled.\n\ncheckpoint path '/dbfs/tmp/stuart.lynn@databricks.com/OpenGreenspace/outputs/checkpoint/2024-09-11T15:38:54.686652' configured for this session.\nGDAL 3.4.1, released 2021/12/27\n\n\n"
     ]
    }
   ],
   "source": [
    "spark.conf.set(\"spark.sql.adaptive.coalescePartitions.enabled\", \"false\")\n",
    "mos.enable_mosaic(spark, dbutils)\n",
    "mos.enable_gdal(spark, with_checkpoint_path=f\"/dbfs{output_path}/checkpoint/{datetime.now().isoformat()}\")"
   ]
  },
  {
   "cell_type": "markdown",
   "metadata": {
    "application/vnd.databricks.v1+cell": {
     "cellMetadata": {
      "byteLimit": 2048000,
      "rowLimit": 10000
     },
     "inputWidgets": {},
     "nuid": "f36c7f77-08f7-418c-a322-e66957acc042",
     "showTitle": false,
     "title": ""
    }
   },
   "source": [
    "## Catalogue the imagery with Mosaic\n",
    "\n",
    "Since we have the direct paths where the data has been downloaded, we can use Mosaic's `rst_fromfile()` method to create pointers within a Spark dataframe to the source files.\n",
    "\n",
    "If this wasn't the case (say, for example, we just had one big folder full of imagery), we could instead use the `GDAL` Spark Data Source in Mosaic[↗︎](https://databrickslabs.github.io/mosaic/api/raster-format-readers.html#spark-read-format-gdal) to achieve the same outcome."
   ]
  },
  {
   "cell_type": "code",
   "execution_count": 0,
   "metadata": {
    "application/vnd.databricks.v1+cell": {
     "cellMetadata": {
      "byteLimit": 2048000,
      "rowLimit": 10000
     },
     "inputWidgets": {},
     "nuid": "97db5c63-ef7a-434a-bf99-28086d75ab50",
     "showTitle": false,
     "title": ""
    }
   },
   "outputs": [],
   "source": [
    "imagery_root = f\"/tmp/{current_user}/{data_product}/imagery\"\n",
    "dbutils.fs.mkdirs(imagery_root)\n",
    "\n",
    "imagery_table_ref = f\"{CATALOG}.{SCHEMA}.imagery\""
   ]
  },
  {
   "cell_type": "code",
   "execution_count": 0,
   "metadata": {
    "application/vnd.databricks.v1+cell": {
     "cellMetadata": {
      "byteLimit": 2048000,
      "rowLimit": 10000
     },
     "inputWidgets": {},
     "nuid": "7cb52c42-0313-4c0d-9d81-7915a01dd8db",
     "showTitle": false,
     "title": ""
    }
   },
   "outputs": [],
   "source": [
    "rasters_raw = (\n",
    "  spark.table(imagery_table_ref)\n",
    "  .repartition(sc.defaultParallelism * 10)\n",
    "  .withColumn(\"tile\", mos.rst_fromfile(F.col(\"downloaded_path\")))\n",
    "  )"
   ]
  },
  {
   "cell_type": "code",
   "execution_count": 0,
   "metadata": {
    "application/vnd.databricks.v1+cell": {
     "cellMetadata": {
      "byteLimit": 2048000,
      "rowLimit": 10000
     },
     "inputWidgets": {},
     "nuid": "30221e84-3842-4e8b-9edc-b7ac0a5acad7",
     "showTitle": false,
     "title": ""
    }
   },
   "outputs": [
    {
     "output_type": "stream",
     "name": "stdout",
     "output_type": "stream",
     "text": [
      "+--------------------+----+--------------------+--------------------+--------------------+--------------------+\n|             item_id|name|            datetime|                 ids|                href|     downloaded_path|\n+--------------------+----+--------------------+--------------------+--------------------+--------------------+\n|S2A_MSIL2A_202105...| B12|2021-05-31T11:06:...|[10687FA8-890B-64...|https://sentinel2...|/dbfs/tmp/stuart....|\n|S2A_MSIL2A_202105...| B01|2021-05-31T11:06:...|[10687FA8-31EF-64...|https://sentinel2...|/dbfs/tmp/stuart....|\n|S2A_MSIL2A_202106...| B01|2021-06-29T11:43:...|[10687F88-C137-64...|https://sentinel2...|/dbfs/tmp/stuart....|\n|S2A_MSIL2A_202107...| B09|2021-07-20T11:06:...|[10687FD9-0307-64...|https://sentinel2...|/dbfs/tmp/stuart....|\n|S2A_MSIL2A_202107...| AOT|2021-07-20T11:06:...|[10687F95-83D6-64...|https://sentinel2...|/dbfs/tmp/stuart....|\n+--------------------+----+--------------------+--------------------+--------------------+--------------------+\n\n"
     ]
    }
   ],
   "source": [
    "spark.table(imagery_table_ref).display()"
   ]
  },
  {
   "cell_type": "markdown",
   "metadata": {
    "application/vnd.databricks.v1+cell": {
     "cellMetadata": {},
     "inputWidgets": {},
     "nuid": "edb0da1f-6a35-4d25-8a9e-3f672171ed70",
     "showTitle": false,
     "title": ""
    }
   },
   "source": [
    "## Reproject the rasters into WGS84\n",
    "In preparation for joining this dataset with the Areas of Interest data, we need to reproject it into a common CRS."
   ]
  },
  {
   "cell_type": "code",
   "execution_count": 0,
   "metadata": {
    "application/vnd.databricks.v1+cell": {
     "cellMetadata": {
      "byteLimit": 2048000,
      "rowLimit": 10000
     },
     "inputWidgets": {},
     "nuid": "31bf547b-b4e4-44bc-bdd4-d3ddd49c5224",
     "showTitle": false,
     "title": ""
    }
   },
   "outputs": [
    {
     "output_type": "stream",
     "name": "stdout",
     "output_type": "stream",
     "text": [
      "+--------------------+----+--------------------+--------------------+--------------------+--------------------+--------------------+-------------------+\n|             item_id|name|            datetime|                 ids|                href|     downloaded_path|                tile|original_projection|\n+--------------------+----+--------------------+--------------------+--------------------+--------------------+--------------------+-------------------+\n|S2A_MSIL2A_202105...| B08|2021-05-01T11:06:...|[10687FF5-BCBC-64...|https://sentinel2...|/dbfs/tmp/stuart....|{NULL, /dbfs/tmp/...|              32630|\n|S2A_MSIL2A_202107...| B02|2021-07-20T11:06:...|[10687FA6-CB24-64...|https://sentinel2...|/dbfs/tmp/stuart....|{NULL, /dbfs/tmp/...|              32630|\n|S2A_MSIL2A_202106...| B09|2021-06-29T11:43:...|[10687FE6-37FA-64...|https://sentinel2...|/dbfs/tmp/stuart....|{NULL, /dbfs/tmp/...|              32630|\n|S2B_MSIL2A_202107...| B04|2021-07-08T11:21:...|[10687FE6-7654-64...|https://sentinel2...|/dbfs/tmp/stuart....|{NULL, /dbfs/tmp/...|              32630|\n|S2B_MSIL2A_202105...| B07|2021-05-02T11:33:...|[10687F82-2E02-64...|https://sentinel2...|/dbfs/tmp/stuart....|{NULL, /dbfs/tmp/...|              32630|\n+--------------------+----+--------------------+--------------------+--------------------+--------------------+--------------------+-------------------+\n\n"
     ]
    }
   ],
   "source": [
    "transformed_raster_table_ref = f\"{CATALOG}.{SCHEMA}.transformed\"\n",
    "\n",
    "(\n",
    "  rasters_raw\n",
    "  .withColumn(\"original_projection\", mos.rst_srid(\"tile\"))\n",
    "  .withColumn(\"tile\", mos.rst_transform(\"tile\", F.lit(4326)))\n",
    "  .write\n",
    "  .mode(\"overwrite\")\n",
    "  .saveAsTable(transformed_raster_table_ref)\n",
    ")\n",
    "\n",
    "raster_4326 = spark.table(transformed_raster_table_ref)\n",
    "raster_4326.display()"
   ]
  },
  {
   "cell_type": "code",
   "execution_count": 0,
   "metadata": {
    "application/vnd.databricks.v1+cell": {
     "cellMetadata": {
      "byteLimit": 2048000,
      "rowLimit": 10000
     },
     "inputWidgets": {},
     "nuid": "562b9fd2-052d-4df4-8013-c5732b773143",
     "showTitle": false,
     "title": ""
    }
   },
   "outputs": [
    {
     "output_type": "execute_result",
     "data": {
      "text/plain": [
       "7120"
      ]
     },
     "execution_count": 9,
     "metadata": {},
     "output_type": "execute_result"
    }
   ],
   "source": [
    "raster_4326.count()"
   ]
  },
  {
   "cell_type": "markdown",
   "metadata": {
    "application/vnd.databricks.v1+cell": {
     "cellMetadata": {},
     "inputWidgets": {},
     "nuid": "c39bd576-d9ba-443f-a052-216ee5b512e9",
     "showTitle": false,
     "title": ""
    }
   },
   "source": [
    "We can use the `last_error` metadata field to check if any of the processing failed."
   ]
  },
  {
   "cell_type": "code",
   "execution_count": 0,
   "metadata": {
    "application/vnd.databricks.v1+cell": {
     "cellMetadata": {
      "byteLimit": 2048000,
      "rowLimit": 10000
     },
     "inputWidgets": {},
     "nuid": "864e9ceb-5103-4c7b-82d8-059a2ce76433",
     "showTitle": false,
     "title": ""
    }
   },
   "outputs": [
    {
     "output_type": "execute_result",
     "data": {
      "text/plain": [
       "4"
      ]
     },
     "execution_count": 10,
     "metadata": {},
     "output_type": "execute_result"
    }
   ],
   "source": [
    "raster_4326.where(\"tile.metadata['last_error'] <> ''\").count()"
   ]
  },
  {
   "cell_type": "markdown",
   "metadata": {
    "application/vnd.databricks.v1+cell": {
     "cellMetadata": {},
     "inputWidgets": {},
     "nuid": "644fea84-c411-4262-9adf-5c145cad25ab",
     "showTitle": false,
     "title": ""
    }
   },
   "source": [
    "Let's also check that we have at least one image for every part of the country."
   ]
  },
  {
   "cell_type": "code",
   "execution_count": 0,
   "metadata": {
    "application/vnd.databricks.v1+cell": {
     "cellMetadata": {
      "byteLimit": 2048000,
      "rowLimit": 10000
     },
     "inputWidgets": {},
     "nuid": "227b999b-6ed2-4035-b6c6-4ddef5d6f643",
     "showTitle": false,
     "title": ""
    }
   },
   "outputs": [],
   "source": [
    "coverage = (\n",
    "  raster_4326\n",
    "  .select(mos.rst_boundingbox(\"tile\").alias(\"bbox\"))\n",
    "  .distinct()\n",
    "  .groupBy()\n",
    "  .agg(mos.st_union_agg(\"bbox\").alias(\"wkb\"))\n",
    ")"
   ]
  },
  {
   "cell_type": "markdown",
   "metadata": {
    "application/vnd.databricks.v1+cell": {
     "cellMetadata": {},
     "inputWidgets": {},
     "nuid": "e779b0f4-82dd-4abf-bff2-e724216f79c4",
     "showTitle": false,
     "title": ""
    }
   },
   "source": [
    "Here's an example of the map the following command should produce.\n",
    "<img src='./assets/coverage-map.png'/>"
   ]
  },
  {
   "cell_type": "code",
   "execution_count": 0,
   "metadata": {
    "application/vnd.databricks.v1+cell": {
     "cellMetadata": {
      "byteLimit": 2048000,
      "rowLimit": 10000
     },
     "inputWidgets": {},
     "nuid": "347240f7-9935-4288-bac7-96e1b5a25d0d",
     "showTitle": false,
     "title": ""
    }
   },
   "outputs": [],
   "source": [
    "%%mosaic_kepler\n",
    "coverage wkb geometry"
   ]
  },
  {
   "cell_type": "markdown",
   "metadata": {
    "application/vnd.databricks.v1+cell": {
     "cellMetadata": {},
     "inputWidgets": {},
     "nuid": "3e0d5ca3-a885-4717-9066-85e7d2a229e6",
     "showTitle": false,
     "title": ""
    }
   },
   "source": [
    "## Assemble the single-band rasters into multiband rasters\n",
    "\n",
    "We'll use Mosaic's `rst_frombands()` method to collect our 12 individual raster bands into a single raster. The default behaviour is to upsample the bands to the resultion of the highest.\n",
    "\n",
    "In order to do this, we'll need to reshape our dataframe: representing each sweep's bands as columns single dataframe row."
   ]
  },
  {
   "cell_type": "code",
   "execution_count": 0,
   "metadata": {
    "application/vnd.databricks.v1+cell": {
     "cellMetadata": {
      "byteLimit": 2048000,
      "rowLimit": 10000
     },
     "inputWidgets": {},
     "nuid": "73ac2552-7dce-49d1-a70f-d61644509607",
     "showTitle": false,
     "title": ""
    }
   },
   "outputs": [],
   "source": [
    "bands = [\n",
    "    \"B01\",\n",
    "    \"B02\",\n",
    "    \"B03\",\n",
    "    \"B04\",\n",
    "    \"B05\",\n",
    "    \"B06\",\n",
    "    \"B07\",\n",
    "    \"B08\",\n",
    "    \"B8A\",\n",
    "    \"B09\",\n",
    "    \"B11\",\n",
    "    \"B12\",\n",
    "]\n",
    "\n",
    "raster_multiband_table_ref = f\"{CATALOG}.{SCHEMA}.multiband\"\n",
    "\n",
    "(\n",
    "  raster_4326\n",
    "    .select(\"item_id\", \"datetime\", \"name\", \"tile\")\n",
    "    .groupBy(\"item_id\", \"datetime\")\n",
    "    .pivot(\"name\", bands)\n",
    "    .agg(F.first(\"tile\"))\n",
    "    .withColumn(\"tile\", mos.rst_frombands(F.array(*bands)))\n",
    "    .drop(*bands)\n",
    "    .write\n",
    "    .mode(\"overwrite\")\n",
    "    .saveAsTable(raster_multiband_table_ref)\n",
    ")\n",
    "\n",
    "raster_multiband = spark.table(raster_multiband_table_ref)"
   ]
  },
  {
   "cell_type": "code",
   "execution_count": 0,
   "metadata": {
    "application/vnd.databricks.v1+cell": {
     "cellMetadata": {
      "byteLimit": 2048000,
      "rowLimit": 10000
     },
     "inputWidgets": {},
     "nuid": "55b7e6e0-1fd7-4a9a-a968-6073420fca71",
     "showTitle": false,
     "title": ""
    }
   },
   "outputs": [
    {
     "output_type": "stream",
     "name": "stdout",
     "output_type": "stream",
     "text": [
      "+--------------------+--------------------+--------------------+\n|             item_id|            datetime|                tile|\n+--------------------+--------------------+--------------------+\n|S2A_MSIL2A_202105...|2021-05-30T11:43:...|{NULL, /dbfs/tmp/...|\n|S2A_MSIL2A_202106...|2021-06-07T10:56:...|{NULL, /dbfs/tmp/...|\n|S2B_MSIL2A_202105...|2021-05-02T11:33:...|{NULL, /dbfs/tmp/...|\n|S2A_MSIL2A_202106...|2021-06-29T11:43:...|{NULL, /dbfs/tmp/...|\n|S2B_MSIL2A_202107...|2021-07-08T11:21:...|{NULL, /dbfs/tmp/...|\n+--------------------+--------------------+--------------------+\n\n"
     ]
    }
   ],
   "source": [
    "raster_multiband.display()"
   ]
  },
  {
   "cell_type": "markdown",
   "metadata": {
    "application/vnd.databricks.v1+cell": {
     "cellMetadata": {},
     "inputWidgets": {},
     "nuid": "5358479d-7b1d-46bf-9916-011b6c5db9d7",
     "showTitle": false,
     "title": ""
    }
   },
   "source": [
    "## Join our vector and raster datasets and clip the rasters\n",
    "\n",
    "In order to compute statistics for each area of interest, we need to create subsets of the raster pixels that correspond to each AoI's area.\n",
    "\n",
    "We can achieve this by\n",
    "  - joining the multiband raster data with the ID sets computed earlier;\n",
    "  - exploding these sets and looking up the corresponding geometries (so we have an image and geometry per ID / granule combination); then\n",
    "  - clipping the image by the geometry using the `rst_clip()` method.\n",
    "\n",
    "While we're doing this, we'll use standard Spark SQL functions to filter our imagery to only include the latest image available for each AoI."
   ]
  },
  {
   "cell_type": "code",
   "execution_count": 0,
   "metadata": {
    "application/vnd.databricks.v1+cell": {
     "cellMetadata": {
      "byteLimit": 2048000,
      "rowLimit": 10000
     },
     "inputWidgets": {},
     "nuid": "a3f1e217-5a34-41a6-ad01-c6897340174d",
     "showTitle": false,
     "title": ""
    }
   },
   "outputs": [
    {
     "output_type": "execute_result",
     "data": {
      "text/plain": [
       "2998"
      ]
     },
     "execution_count": 15,
     "metadata": {},
     "output_type": "execute_result"
    }
   ],
   "source": [
    "aoi_type = \"Golf Course\"\n",
    "aoi_table_ref = f\"{CATALOG}.{SCHEMA}.aois\"\n",
    "\n",
    "aois = spark.table(aoi_table_ref)\n",
    "aois.count()"
   ]
  },
  {
   "cell_type": "code",
   "execution_count": 0,
   "metadata": {
    "application/vnd.databricks.v1+cell": {
     "cellMetadata": {
      "byteLimit": 2048000,
      "rowLimit": 10000
     },
     "inputWidgets": {},
     "nuid": "9195d41b-7e58-4e06-bcfb-950d27bb46bb",
     "showTitle": false,
     "title": ""
    }
   },
   "outputs": [
    {
     "output_type": "stream",
     "name": "stdout",
     "output_type": "stream",
     "text": [
      "+--------------------+--------------------+--------------------+--------------------+\n|             item_id|            datetime|                  id|                tile|\n+--------------------+--------------------+--------------------+--------------------+\n|S2A_MSIL2A_202107...|2021-07-23T11:21:...|10687F5C-D21E-64A...|{NULL, /dbfs/tmp/...|\n|S2A_MSIL2A_202107...|2021-07-20T11:06:...|10687FB3-7BB5-64A...|{NULL, /dbfs/tmp/...|\n|S2B_MSIL2A_202107...|2021-07-22T10:56:...|10687FB3-8CBA-64A...|{NULL, /dbfs/tmp/...|\n|S2A_MSIL2A_202107...|2021-07-20T11:06:...|10687FBE-A3FA-64A...|{NULL, /dbfs/tmp/...|\n|S2A_MSIL2A_202107...|2021-07-20T11:06:...|10687FC1-9C49-64A...|{NULL, /dbfs/tmp/...|\n+--------------------+--------------------+--------------------+--------------------+\n\n"
     ]
    }
   ],
   "source": [
    "latest_raster_by_aoi_table_ref = f\"{CATALOG}.{SCHEMA}.latest_aoi_raster\"\n",
    "\n",
    "windowSpec = Window.partitionBy(\"id\").orderBy(F.desc(\"datetime\"))\n",
    "\n",
    "(\n",
    "  raster_multiband\n",
    "  .join(\n",
    "    other=(\n",
    "      raster_4326\n",
    "      .select(\"item_id\", \"ids\")\n",
    "      .distinct()\n",
    "    ),\n",
    "    how=\"inner\", \n",
    "    on=\"item_id\"\n",
    "  )\n",
    "  .withColumn(\"id\", F.explode(\"ids\"))\n",
    "  .withColumn(\"rank\", F.row_number().over(windowSpec))\n",
    "  .filter(\"rank = 1\")\n",
    "  .drop(\"rank\")\n",
    "  .select(\"item_id\", \"datetime\", \"id\", \"tile\")\n",
    "  .write\n",
    "  .mode(\"overwrite\")\n",
    "  .saveAsTable(latest_raster_by_aoi_table_ref)\n",
    ")\n",
    "\n",
    "raster_latest = spark.table(latest_raster_by_aoi_table_ref)\n",
    "raster_latest.display()"
   ]
  },
  {
   "cell_type": "code",
   "execution_count": 0,
   "metadata": {
    "application/vnd.databricks.v1+cell": {
     "cellMetadata": {
      "byteLimit": 2048000,
      "rowLimit": 10000
     },
     "inputWidgets": {},
     "nuid": "c198af5a-ab18-4f8b-be0f-55fc431086f1",
     "showTitle": false,
     "title": ""
    }
   },
   "outputs": [
    {
     "output_type": "execute_result",
     "data": {
      "text/plain": [
       "2974"
      ]
     },
     "execution_count": 17,
     "metadata": {},
     "output_type": "execute_result"
    }
   ],
   "source": [
    "raster_latest.count()"
   ]
  },
  {
   "cell_type": "code",
   "execution_count": 0,
   "metadata": {
    "application/vnd.databricks.v1+cell": {
     "cellMetadata": {
      "byteLimit": 2048000,
      "rowLimit": 10000
     },
     "inputWidgets": {},
     "nuid": "092c0276-48f2-4591-89cf-931a33f83870",
     "showTitle": false,
     "title": ""
    }
   },
   "outputs": [
    {
     "output_type": "stream",
     "name": "stdout",
     "output_type": "stream",
     "text": [
      "+--------------------+--------------------+--------------------+--------------------+-----------+-------------------+------------------+------------------+------------------+--------------------+-------------+--------------------+\n|                  id|             item_id|            datetime|                tile|   function| distinctive_name_1|distinctive_name_2|distinctive_name_3|distinctive_name_4|            geometry|geometry_srid|       geometry_4326|\n+--------------------+--------------------+--------------------+--------------------+-----------+-------------------+------------------+------------------+------------------+--------------------+-------------+--------------------+\n|10687FF9-1ECE-64A...|S2A_MSIL2A_202107...|2021-07-20T11:06:...|{NULL, /dbfs/tmp/...|Golf Course|                   |                  |                  |                  |MULTIPOLYGON (((4...|        27700|MULTIPOLYGON (((-...|\n|10687FB5-6AE6-64A...|S2B_MSIL2A_202107...|2021-07-21T11:33:...|{NULL, /dbfs/tmp/...|Golf Course|                   |                  |                  |                  |MULTIPOLYGON (((2...|        27700|MULTIPOLYGON (((-...|\n|106880D8-695B-64A...|S2B_MSIL2A_202107...|2021-07-22T10:56:...|{NULL, /dbfs/tmp/...|Golf Course|                   |                  |                  |                  |MULTIPOLYGON (((5...|        27700|MULTIPOLYGON (((0...|\n|10687FB5-9CD0-64A...|S2B_MSIL2A_202107...|2021-07-18T11:21:...|{NULL, /dbfs/tmp/...|Golf Course|Skipton Golf Course|                  |                  |                  |MULTIPOLYGON (((3...|        27700|MULTIPOLYGON (((-...|\n|10687F75-E624-64A...|S2A_MSIL2A_202107...|2021-07-20T11:06:...|{NULL, /dbfs/tmp/...|Golf Course|                   |                  |                  |                  |MULTIPOLYGON (((3...|        27700|MULTIPOLYGON (((-...|\n+--------------------+--------------------+--------------------+--------------------+-----------+-------------------+------------------+------------------+------------------+--------------------+-------------+--------------------+\n\n"
     ]
    }
   ],
   "source": [
    "clipped_image_table_ref = f\"{CATALOG}.{SCHEMA}.clipped_rasters\"\n",
    "\n",
    "(\n",
    "  raster_latest\n",
    "  .join(\n",
    "    other=aois,\n",
    "    how=\"inner\",\n",
    "    on=\"id\"\n",
    "  )\n",
    "  .withColumn(\"tile\", mos.rst_clip(\"tile\", \"geometry_4326\"))\n",
    "  .withColumn(\"geometry_4326\", mos.st_aswkt(\"geometry_4326\"))\n",
    "  .write\n",
    "  .mode(\"overwrite\")\n",
    "  .saveAsTable(clipped_image_table_ref)\n",
    ")\n",
    "\n",
    "clipped_images = spark.table(clipped_image_table_ref)\n",
    "clipped_images.display()"
   ]
  },
  {
   "cell_type": "code",
   "execution_count": 0,
   "metadata": {
    "application/vnd.databricks.v1+cell": {
     "cellMetadata": {
      "byteLimit": 2048000,
      "rowLimit": 10000
     },
     "inputWidgets": {},
     "nuid": "8da7d61f-9c6a-4e72-a2de-d38b35319d11",
     "showTitle": false,
     "title": ""
    }
   },
   "outputs": [
    {
     "output_type": "execute_result",
     "data": {
      "text/plain": [
       "2974"
      ]
     },
     "execution_count": 19,
     "metadata": {},
     "output_type": "execute_result"
    }
   ],
   "source": [
    "clipped_images.count()"
   ]
  }
 ],
 "metadata": {
  "application/vnd.databricks.v1+notebook": {
   "dashboards": [],
   "environmentMetadata": null,
   "language": "python",
   "notebookMetadata": {
    "mostRecentlyExecutedCommandWithImplicitDF": {
     "commandId": 1576479189972294,
     "dataframes": [
      "_sqldf"
     ]
    },
    "pythonIndentUnit": 2
   },
   "notebookName": "01 Process imagery",
   "widgets": {}
  }
 },
 "nbformat": 4,
 "nbformat_minor": 0
}
